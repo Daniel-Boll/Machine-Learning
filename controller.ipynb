{
 "cells": [
  {
   "cell_type": "markdown",
   "metadata": {},
   "source": [
    "<h1 align=\"center\">Trabalho 1 - Aprendizagem de Máquina</h1>\n",
    "\n",
    "## Andre Brun\n",
    "### Daniel Boll & Mateus Karvat\n",
    "---\n",
    "## Base: Australian\n",
    "\n",
    "A base de dados Australian é composta por informações de pedidos de aprovação de crédito. Ela contém atributos de diferentes tipos (numéricos, categóricos) e com diferentes intervalos de valores. A fim de manter anonimização de dados, o nome de cada atributo foi omitido na criação da base de dados.\n",
    "\n",
    "## Dados: \n",
    "    A1:\t0,1    CATEGORICAL\n",
    "        a,b\n",
    "    A2:\tcontinuous.\n",
    "    A3:\tcontinuous.\n",
    "    A4:\t1,2,3         CATEGORICAL\n",
    "        p,g,gg\n",
    "    A5:  1, 2,3,4,5, 6,7,8,9,10,11,12,13,14    CATEGORICAL\n",
    "         ff,d,i,k,j,aa,m,c,w, e, q, r,cc, x \n",
    "         \n",
    "    A6:\t 1, 2,3, 4,5,6,7,8,9    CATEGORICAL\n",
    "        ff,dd,j,bb,v,n,o,h,z \n",
    "\n",
    "    A7:\tcontinuous.\n",
    "    A8:\t1, 0       CATEGORICAL\n",
    "        t, f.\n",
    "    A9: 1, 0\t    CATEGORICAL\n",
    "        t, f.\n",
    "    A10:\tcontinuous.\n",
    "    A11:  1, 0\t    CATEGORICAL\n",
    "          t, f.\n",
    "    A12:    1, 2, 3    CATEGORICAL\n",
    "            s, g, p \n",
    "    A13:\tcontinuous.\n",
    "    A14:\tcontinuous.\n",
    "    A15:   1,2\n",
    "           +,-         (class attribute)"
   ]
  },
  {
   "source": [
    "---\n",
    "Importaremos as bibliotecas necessárias para análise, extração e manipulação dos dados.\n",
    "\n",
    "Para isso, iremos inicialmente fazer a instalação das bibliotecas necessárias utilizando o `pip`."
   ],
   "cell_type": "markdown",
   "metadata": {}
  },
  {
   "cell_type": "code",
   "execution_count": null,
   "metadata": {},
   "outputs": [],
   "source": [
    "!pip install pandas\n",
    "!pip install seaborn\n",
    "!pip install sklearn\n",
    "!pip install pandoc"
   ]
  },
  {
   "source": [
    "Após termos instalado as bibliotecas, importaremos as funções e bibliotecas necessárias"
   ],
   "cell_type": "markdown",
   "metadata": {}
  },
  {
   "cell_type": "code",
   "execution_count": 1,
   "metadata": {},
   "outputs": [],
   "source": [
    "import pandas as pd\n",
    "import numpy as np\n",
    "import seaborn as sns\n",
    "import matplotlib.pyplot as plt\n",
    "import matplotlib.ticker as tic\n",
    "import plotly.graph_objects as go\n",
    "from plotly.colors import n_colors\n",
    "import time\n",
    "import copy\n",
    "import operator\n",
    "np.set_printoptions(precision=3, suppress=True)\n",
    "# %matplotlib notebook\n",
    "# %matplotlib inline\n",
    "\n",
    "# Analitics\n",
    "from sklearn import metrics\n",
    "from sklearn.model_selection import train_test_split, GridSearchCV, StratifiedKFold\n",
    "from sklearn.metrics import classification_report, confusion_matrix, accuracy_score\n",
    "from sklearn.preprocessing import normalize, StandardScaler\n",
    "from sklearn.pipeline import make_pipeline\n",
    "from scipy.stats import kruskal, mannwhitneyu\n",
    "\n",
    "# Classifiers\n",
    "from sklearn.neighbors import KNeighborsClassifier, DistanceMetric, NearestNeighbors\n",
    "from sklearn.naive_bayes import GaussianNB, MultinomialNB, ComplementNB, BernoulliNB, CategoricalNB\n",
    "from sklearn.neural_network import MLPClassifier\n",
    "from sklearn.tree import DecisionTreeClassifier, plot_tree\n",
    "from sklearn.svm import SVC\n",
    "\n",
    "# Utilities\n",
    "from utils.func import class_distribution, draw_missing_data_table"
   ]
  },
  {
   "source": [
    "Utilizando o pandas iremos extrair as informações da base da dados `australian.csv`"
   ],
   "cell_type": "markdown",
   "metadata": {}
  },
  {
   "cell_type": "code",
   "execution_count": 2,
   "metadata": {},
   "outputs": [],
   "source": [
    "columns = ('A1', 'A2', 'A3', 'A4', 'A5', 'A6', 'A7', 'A8', 'A9', 'A10', 'A11', 'A12', 'A13', 'A14', 'Class')\n",
    "data = pd.read_csv('./australian.csv', names=columns)\n",
    "\n",
    "# Manteremos uma cópia dos dados originais\n",
    "# para garantia\n",
    "raw_data = data.copy()"
   ]
  },
  {
   "cell_type": "code",
   "execution_count": 3,
   "metadata": {},
   "outputs": [
    {
     "output_type": "execute_result",
     "data": {
      "text/plain": [
       "         A1        A2        A3        A4        A5        A6        A7  \\\n",
       "0 -0.171086  0.568362  1.287481  1.694323 -0.320570 -0.114929  0.266358   \n",
       "1 -0.607191  0.568362 -0.428896 -0.472286 -0.387550 -0.214802 -0.279736   \n",
       "2 -1.167897 -1.765125 -0.445400 -0.472286 -0.621981 -0.381256 -0.272735   \n",
       "3  0.389620  0.568362  0.115724  0.372324 -0.065207  1.671683  0.770444   \n",
       "4 -0.420289  0.568362 -0.263860 -0.178509 -0.462903 -0.347965 -0.265733   \n",
       "\n",
       "         A8        A9       A10  Class  \n",
       "0  0.383910 -0.435058  5.891406      1  \n",
       "1  0.291803  0.328531  0.169498      1  \n",
       "2 -0.721372 -0.944117 -0.625211      1  \n",
       "3  0.936551  1.092119  0.487382      1  \n",
       "4  0.660230  0.583060  0.169498      1  "
      ],
      "text/html": "<div>\n<style scoped>\n    .dataframe tbody tr th:only-of-type {\n        vertical-align: middle;\n    }\n\n    .dataframe tbody tr th {\n        vertical-align: top;\n    }\n\n    .dataframe thead th {\n        text-align: right;\n    }\n</style>\n<table border=\"1\" class=\"dataframe\">\n  <thead>\n    <tr style=\"text-align: right;\">\n      <th></th>\n      <th>A1</th>\n      <th>A2</th>\n      <th>A3</th>\n      <th>A4</th>\n      <th>A5</th>\n      <th>A6</th>\n      <th>A7</th>\n      <th>A8</th>\n      <th>A9</th>\n      <th>A10</th>\n      <th>Class</th>\n    </tr>\n  </thead>\n  <tbody>\n    <tr>\n      <th>0</th>\n      <td>-0.171086</td>\n      <td>0.568362</td>\n      <td>1.287481</td>\n      <td>1.694323</td>\n      <td>-0.320570</td>\n      <td>-0.114929</td>\n      <td>0.266358</td>\n      <td>0.383910</td>\n      <td>-0.435058</td>\n      <td>5.891406</td>\n      <td>1</td>\n    </tr>\n    <tr>\n      <th>1</th>\n      <td>-0.607191</td>\n      <td>0.568362</td>\n      <td>-0.428896</td>\n      <td>-0.472286</td>\n      <td>-0.387550</td>\n      <td>-0.214802</td>\n      <td>-0.279736</td>\n      <td>0.291803</td>\n      <td>0.328531</td>\n      <td>0.169498</td>\n      <td>1</td>\n    </tr>\n    <tr>\n      <th>2</th>\n      <td>-1.167897</td>\n      <td>-1.765125</td>\n      <td>-0.445400</td>\n      <td>-0.472286</td>\n      <td>-0.621981</td>\n      <td>-0.381256</td>\n      <td>-0.272735</td>\n      <td>-0.721372</td>\n      <td>-0.944117</td>\n      <td>-0.625211</td>\n      <td>1</td>\n    </tr>\n    <tr>\n      <th>3</th>\n      <td>0.389620</td>\n      <td>0.568362</td>\n      <td>0.115724</td>\n      <td>0.372324</td>\n      <td>-0.065207</td>\n      <td>1.671683</td>\n      <td>0.770444</td>\n      <td>0.936551</td>\n      <td>1.092119</td>\n      <td>0.487382</td>\n      <td>1</td>\n    </tr>\n    <tr>\n      <th>4</th>\n      <td>-0.420289</td>\n      <td>0.568362</td>\n      <td>-0.263860</td>\n      <td>-0.178509</td>\n      <td>-0.462903</td>\n      <td>-0.347965</td>\n      <td>-0.265733</td>\n      <td>0.660230</td>\n      <td>0.583060</td>\n      <td>0.169498</td>\n      <td>1</td>\n    </tr>\n  </tbody>\n</table>\n</div>"
     },
     "metadata": {},
     "execution_count": 3
    }
   ],
   "source": [
    "# Visualizando as informações\n",
    "data.head()"
   ]
  },
  {
   "source": [
    "Próximo passo é nos certificarmos que a base de dados não tem dados faltantes, então chamamos a função `draw_missing_data_table` que permite-nos averiguar quantos dados estão faltando por coluna"
   ],
   "cell_type": "markdown",
   "metadata": {}
  },
  {
   "cell_type": "code",
   "execution_count": 4,
   "metadata": {},
   "outputs": [
    {
     "output_type": "execute_result",
     "data": {
      "text/plain": [
       "       Total  Percent\n",
       "Class      0      0.0\n",
       "A10        0      0.0\n",
       "A9         0      0.0\n",
       "A8         0      0.0\n",
       "A7         0      0.0\n",
       "A6         0      0.0\n",
       "A5         0      0.0\n",
       "A4         0      0.0\n",
       "A3         0      0.0\n",
       "A2         0      0.0\n",
       "A1         0      0.0"
      ],
      "text/html": "<div>\n<style scoped>\n    .dataframe tbody tr th:only-of-type {\n        vertical-align: middle;\n    }\n\n    .dataframe tbody tr th {\n        vertical-align: top;\n    }\n\n    .dataframe thead th {\n        text-align: right;\n    }\n</style>\n<table border=\"1\" class=\"dataframe\">\n  <thead>\n    <tr style=\"text-align: right;\">\n      <th></th>\n      <th>Total</th>\n      <th>Percent</th>\n    </tr>\n  </thead>\n  <tbody>\n    <tr>\n      <th>Class</th>\n      <td>0</td>\n      <td>0.0</td>\n    </tr>\n    <tr>\n      <th>A10</th>\n      <td>0</td>\n      <td>0.0</td>\n    </tr>\n    <tr>\n      <th>A9</th>\n      <td>0</td>\n      <td>0.0</td>\n    </tr>\n    <tr>\n      <th>A8</th>\n      <td>0</td>\n      <td>0.0</td>\n    </tr>\n    <tr>\n      <th>A7</th>\n      <td>0</td>\n      <td>0.0</td>\n    </tr>\n    <tr>\n      <th>A6</th>\n      <td>0</td>\n      <td>0.0</td>\n    </tr>\n    <tr>\n      <th>A5</th>\n      <td>0</td>\n      <td>0.0</td>\n    </tr>\n    <tr>\n      <th>A4</th>\n      <td>0</td>\n      <td>0.0</td>\n    </tr>\n    <tr>\n      <th>A3</th>\n      <td>0</td>\n      <td>0.0</td>\n    </tr>\n    <tr>\n      <th>A2</th>\n      <td>0</td>\n      <td>0.0</td>\n    </tr>\n    <tr>\n      <th>A1</th>\n      <td>0</td>\n      <td>0.0</td>\n    </tr>\n  </tbody>\n</table>\n</div>"
     },
     "metadata": {},
     "execution_count": 4
    }
   ],
   "source": [
    "draw_missing_data_table(data)"
   ]
  },
  {
   "source": [
    "Em seguida, criaremos a separação utilizando o `train_test_split`.\n",
    "\n",
    "O que acontece é que no caso de alguns classificadores, utilizaremos uma função da biblioteca SciKit-Learn para realizar o ***GridSearch***, a `GridSearchCV` a qual já realiza a separação do conjunto de validação do conjunto de treino pelo método 3-Fold. Logo, para estes casos realizaremos a seguinte separação:\n",
    "\n",
    " - 75% treino\n",
    "    - GridSearchCV vai separar em\n",
    "        - treino\n",
    "        - validação\n",
    " - 25% teste\n",
    "\n",
    "Já para os classificadores nos quais o ***GridSearch*** será realizado manualmente necessitaremos da separação manual do conjunto de validação, logo faremos:\n",
    "\n",
    " - 50% treino\n",
    " - 25% teste\n",
    " - 25% validação\n",
    "\n",
    "Para esta distribuição, separa-se o conjunto de treino (75%) da distribuição anterior entre um conjunto de treino menor (50%) e um conjunto de validação (25%). Assim, o conjunto de teste mantém-se o mesmo.\n",
    "\n",
    "Tendo isso em vista, o treino dos classificadores após a realização do ***GridSearch*** ocorre com o conjunto de treino menor (50%), visto que o conjunto de validação já foi utilizado na busca de parâmetros e não deve ser utilizado para fins de treinamento."
   ],
   "cell_type": "markdown",
   "metadata": {}
  },
  {
   "cell_type": "code",
   "execution_count": 5,
   "metadata": {},
   "outputs": [],
   "source": [
    "def split(data):\n",
    "    # Separamos todos os atributos com excessão da classe\n",
    "    # Ex: (A1, A2, Classe)\n",
    "    # data_param = (A1, A2)\n",
    "    data_param = pd.DataFrame(data, columns=data.columns[:-1])\n",
    "\n",
    "    # Utilizamos o train_test_split deixando\n",
    "    # 75% da base no treino e 25% no teste\n",
    "    # e utilizamos o stratify que tenta manter\n",
    "    # a proporção das classes durante a separação\n",
    "    train75_data, test_data, train75_classes, test_classes = train_test_split(data_param, data['Class'], test_size=0.25, stratify=data['Class'])\n",
    "\n",
    "    # Depois fazemos a cópia do 75\n",
    "    # Para a variável que armazenará\n",
    "    # 50% do treino\n",
    "    train50_data = train75_data\n",
    "    train50_classes = train75_classes\n",
    "\n",
    "    # fazemos a separação, novamento utilizando\n",
    "    # o stratify, mantendo a proporção da origem\n",
    "    # que agora não é mais os dados completos e sim\n",
    "    # do train 75\n",
    "    train50_data, validation_data, train50_classes, validation_classes = train_test_split(train75_data, train75_classes, test_size=0.333333, stratify=train75_classes)\n",
    "\n",
    "    # Retornamos os valores\n",
    "    return [train75_data, train75_classes, test_data, test_classes, train50_data, train50_classes, validation_data, validation_classes]"
   ]
  },
  {
   "cell_type": "code",
   "execution_count": 6,
   "metadata": {},
   "outputs": [],
   "source": [
    "train75_data, train75_classes, test_data, test_classes, train50_data, train50_classes, validation_data, validation_classes = split(data)\n",
    "\n",
    "m = np.shape(train75_data)[1]"
   ]
  },
  {
   "source": [
    "A fim de melhorar a realização do **GridSearch** manual, isto é, o **GridSearch** que não utiliza a biblioteca SciKit-Learn, criamos a função `custom_kfold` para realizar esta operação utilizando a técnica de K-Fold.\n",
    "\n",
    "<img src=\"./images/kfold.png\"></img>\n"
   ],
   "cell_type": "markdown",
   "metadata": {}
  },
  {
   "cell_type": "code",
   "execution_count": 7,
   "metadata": {},
   "outputs": [
    {
     "output_type": "stream",
     "name": "stdout",
     "text": [
      "Train 75: \n\nClasse 1: 312 elementos\nClasse 2: 125 elementos\n-----------\nTrain 50: \n\nClasse 1: 208 elementos\nClasse 2: 83 elementos\n-----------\nTest: \n\nClasse 2: 42 elementos\nClasse 1: 104 elementos\n-----------\nValidation: \n\nClasse 1: 104 elementos\nClasse 2: 42 elementos\n"
     ]
    }
   ],
   "source": [
    "print(\"Train 75: \\n\")\n",
    "class_distribution(train75_classes)\n",
    "print('-----------')\n",
    "print(f\"Train 50: \\n\")\n",
    "class_distribution(train50_classes)\n",
    "print('-----------')\n",
    "print(f\"Test: \\n\")\n",
    "class_distribution(test_classes)\n",
    "print('-----------')\n",
    "print(f\"Validation: \\n\")\n",
    "class_distribution(validation_classes)"
   ]
  },
  {
   "cell_type": "code",
   "execution_count": 8,
   "metadata": {},
   "outputs": [],
   "source": [
    "def custom_kfold():\n",
    "\n",
    "    kfold_dictionary = {\n",
    "        \"kfold_train_classes\": [],\n",
    "        \"kfold_train_data\": [],\n",
    "        \"kfold_validation_classes\": [],\n",
    "        \"kfold_validation_data\": []\n",
    "    }\n",
    "\n",
    "    kf = StratifiedKFold(n_splits=3)\n",
    "    current_folding = 0\n",
    "    for train_index, validation_index in kf.split(train75_data, train75_classes):\n",
    "        n_train_fold = np.shape(train_index)[0]\n",
    "        n_validation_fold = np.shape(validation_index)[0]\n",
    "\n",
    "        kfold_train_classes = np.zeros((n_train_fold, 1))\n",
    "        kfold_train_data =  np.zeros((n_train_fold, m))\n",
    "        kfold_validation_classes = np.zeros((n_validation_fold, 1)) \n",
    "        kfold_validation_data = np.zeros((n_validation_fold, m))\n",
    "\n",
    "        j = 0 \n",
    "        for i in train_index:\n",
    "            kfold_train_data[j] = train75_data.values[i, :]\n",
    "            kfold_train_classes[j] = train75_classes.values[i]\n",
    "            j += 1  \n",
    "\n",
    "        h = 0 \n",
    "        for i in validation_index:\n",
    "            kfold_validation_data[h] = train75_data.values[i, :]\n",
    "            kfold_validation_classes[h] = train75_classes.values[i]\n",
    "            h += 1\n",
    "\n",
    "        kfold_dictionary['kfold_train_classes'].append(kfold_train_classes)\n",
    "        kfold_dictionary['kfold_train_data'].append(kfold_train_data)\n",
    "        kfold_dictionary['kfold_validation_classes'].append(kfold_validation_classes)\n",
    "        kfold_dictionary['kfold_validation_data'].append(kfold_validation_data)\n",
    "\n",
    "    return kfold_dictionary"
   ]
  },
  {
   "source": [
    "----\n",
    "## KNN (K-Nearest Neighbors)\n",
    "### Definição de métricas personalizadas\n",
    "\n",
    "As ponderações possíveis dentro do KNeighborsClassifier são:\n",
    "\n",
    "- Uniform\n",
    "    - Pesos uniformes. Todos os pontos em cada bairro são ponderados igualmente. (Padrão)\n",
    "- Distance\n",
    "    - Pontos de ponderação pelo inverso de sua distância. Neste caso, vizinhos mais próximos de um ponto de consulta terão uma influência maior do que vizinhos mais distantes.\n",
    "- Callable\n",
    "    - Uma função customizável para a ponderação, que seguirá a fórmula $P_i=1-DE_{i->teste}Normalizada$ \n",
    "onde, para normalizar, utilizamos:\n",
    "\n",
    "$$V_i=\\frac{V_i-V_{mínimo}}{V_{máximo}-V_{mínimo}}$$ "
   ],
   "cell_type": "markdown",
   "metadata": {}
  },
  {
   "cell_type": "code",
   "execution_count": 9,
   "metadata": {
    "tags": []
   },
   "outputs": [],
   "source": [
    "# Normalização\n",
    "def to_normalized(distances):\n",
    "    t_max = max(distances)\n",
    "    t_min = min(distances)\n",
    "    distances = distances - t_min\n",
    "    distances = distances / (t_max - t_min)\n",
    "    return distances\n",
    "\n",
    "# 1 - DEnormalizada\n",
    "def one_minus_d_euclid(k_distance):\n",
    "    # A função recebe os k mais próximos\n",
    "    # e precisa retornar a ponderação desses\n",
    "    # o correto seria se fazer a normalização\n",
    "    # global, contudo como não temos acesso a \n",
    "    # tudo, normalizaremos com base nesses k\n",
    "\n",
    "    weights = np.zeros(np.shape(k_distance))\n",
    "\n",
    "    # Caso seja k = 1 a ponderação será sempre 1\n",
    "    if np.shape(k_distance)[1] == 1:\n",
    "        weights = np.ones(np.shape(k_distance))\n",
    "    # Caso k >= 2 normalizaremos cada linha\n",
    "    else:\n",
    "        for i in range(np.shape(k_distance)[0]):\n",
    "            weights[i] = to_normalized(np.array(k_distance[i]))\n",
    "\n",
    "    # E retornamos uma lista de mesmo tamanho\n",
    "    # ponderada\n",
    "    return weights"
   ]
  },
  {
   "source": [
    "A função getBestKNN realiza a operação de ***GridSearch*** utilizando a função do `SciKit-Learn`. Ela testa os parâmetros:\n",
    "\n",
    "- *n_neighbors*: valor do parâmetro **k**.\n",
    "  - variando de 1 a 99 com incrementos de 2 (pois números de k pares tendem a empatar);\n",
    "\n",
    "- *weights*: métrica de distância.\n",
    "  - varia entre as três possibilidades citadas acima;\n",
    "\n",
    "- *metric*: é fixada como \"euclidean\" para que o classificador sempre utilize a distância euclidiana entre os pontos."
   ],
   "cell_type": "markdown",
   "metadata": {}
  },
  {
   "cell_type": "code",
   "execution_count": 10,
   "metadata": {},
   "outputs": [],
   "source": [
    "def getBestKNN():\n",
    "    # Grid search\n",
    "    knn_parameters = {\n",
    "        'n_neighbors': range(1, 100, 2),\n",
    "        'weights': ('distance', 'uniform', one_minus_d_euclid),\n",
    "        'metric': ['euclidean']\n",
    "    }\n",
    "\n",
    "    knnGS = GridSearchCV(KNeighborsClassifier(), knn_parameters, cv=3)\n",
    "    knnGS.fit(train75_data, train75_classes)\n",
    "    best_params_knn = knnGS.best_params_\n",
    "    print(f\"KNN best params: {best_params_knn}\")\n",
    "    \n",
    "    # KNN with the best parameters\n",
    "    return KNeighborsClassifier(\n",
    "                n_neighbors=best_params_knn['n_neighbors'],\n",
    "                metric=best_params_knn['metric'],\n",
    "                weights=best_params_knn['weights']\n",
    "            )"
   ]
  },
  {
   "source": [
    "-----\n",
    "## DTC (Decision Tree Classifier)\n",
    "\n",
    "A árvore de decisão pode ocorrar com poda ou sem poda. Para este classificador, realizamos GridSearch manualmente, utilizando a função `custom_kfold`.\n",
    "\n",
    "A poda é realizada buscando pelo melhor parâmetro `ccp_alpha` (cost complexity parameter), o qual define os locais de poda da árvore com base no custo de complexidade de cada nó.\n",
    "\n",
    "Na busca pelo melhor `ccp_alpha`, definimos uma variável chamada de prediction_vector, o qual é definido como o valor das acurácias no conjunto de validação de para cada possível valor de `ccp_alpha`, subraída da diferença entre a acurácia do conjunto de treino com o conjunto de validação.\n",
    "\n",
    "<img src=\"./images/dtc_plot.png\"/>\n",
    "\n",
    "Graficamente, o valor de `ccp_alpha` ideal é aquele no qual a linha laranja tem o valor mais alto possível, desde que a distância dela até a linha azul seja pequena. Caso a distância da linha laranja até a linha azul seja grande, o classificador sofrerá com *overfitting*. Logo, a variável `prediction_score` é definida de modo a penalizar as acurácias de validação pelo *gap* da validação ao treino. Assim, pode-se selecionar o `ccp_alpha` com o maior valor de `prediction_score` e obter a árvore com a melhor poda.\n",
    "\n",
    "No gráfico acima, é possível observar que o maior valor de acurácia para o conjunto de validação está próximo a `ccp_alpha` igual a 0.006. Entretanto, para tal valor de `ccp_alpha` ocorreria um *overfit* significativo dado que o *gap* entre as linhas laranja e azul é acentuado. Nesse sentido, o melhor valor de `ccp_alpha` é o valor mais alto de `prediction_score`, que ocorre próximo a `ccp_alpha` igual a 0.026. Para tal valor, a acurácia do conjunto de validação não é a mais alta, mas está apenas ligeiramente abaixo do valor mais alto. Em contrapartida, o *gap* entre as linhas laranja e azul é mínimo, visto que convergiram num mesmo ponto. Nesse sentido, tal valor de `ccp_alpha` representará o melhor resultado no conjunto de testes."
   ],
   "cell_type": "markdown",
   "metadata": {}
  },
  {
   "cell_type": "code",
   "execution_count": 11,
   "metadata": {},
   "outputs": [],
   "source": [
    "def getBestDTC():\n",
    "    # Sem poda\n",
    "    dtc = DecisionTreeClassifier()\n",
    "    dtc.fit(train50_data, train50_classes)\n",
    "\n",
    "    kfold_dtc = custom_kfold()\n",
    "    ccp_alphas = []\n",
    "\n",
    "    # Criação das árvores de cada fold a fim de determinar todos os possíveis valores de ccp_alpha\n",
    "    for i in range(0, 3):\n",
    "        kfold_train_data = kfold_dtc['kfold_train_data'][i]\n",
    "        kfold_train_classes = kfold_dtc['kfold_train_classes'][i]\n",
    "\n",
    "        path = dtc.cost_complexity_pruning_path(kfold_train_data, kfold_train_classes)\n",
    "        temp = path.ccp_alphas\n",
    "        ccp_alphas = np.concatenate((ccp_alphas, temp), axis=0)  \n",
    "\n",
    "    ccp_alphas = np.sort(ccp_alphas)     \n",
    "\n",
    "    # Verificação dodesempenho do classificador com diferentes valores para o ccp_alpha\n",
    "    cut = 6 - 0\n",
    "    train_scores_mean = np.zeros(np.shape(ccp_alphas)[0]-cut)\n",
    "    val_scores_mean = np.zeros(np.shape(ccp_alphas)[0]-cut)\n",
    "\n",
    "    for i in range(0, 3):\n",
    "        kfold_train_data = kfold_dtc['kfold_train_data'][i]\n",
    "        kfold_train_classes = kfold_dtc['kfold_train_classes'][i]\n",
    "        kfold_validation_data = kfold_dtc['kfold_validation_data'][i]\n",
    "        kfold_validation_classes = kfold_dtc['kfold_validation_classes'][i]\n",
    "\n",
    "        dtcs = []\n",
    "        for ccp_alpha in ccp_alphas:\n",
    "            Prundtc = DecisionTreeClassifier(ccp_alpha=ccp_alpha)\n",
    "            Prundtc.fit(kfold_train_data, kfold_train_classes)\n",
    "            dtcs.append(Prundtc)\n",
    "\n",
    "        dtcs = dtcs[:-cut]\n",
    "        ccp_alphas_m = copy.deepcopy(ccp_alphas)\n",
    "        ccp_alphas_m = ccp_alphas_m[:-cut]\n",
    "\n",
    "        train_scores = [dtc.score(kfold_train_data, kfold_train_classes) for dtc in dtcs]\n",
    "        val_scores = [dtc.score(kfold_validation_data, kfold_validation_classes) for dtc in dtcs]\n",
    "\n",
    "        train_scores_mean += train_scores\n",
    "        val_scores_mean += val_scores\n",
    "\n",
    "    train_scores_mean /= 3\n",
    "    val_scores_mean /= 3\n",
    "\n",
    "    # A partir das acurácias de treino e validação para cada possível valor de ccp_alpha, criamos o prediction_vector, o qual possibilita a escolha automática do melhor ccp_alpha\n",
    "    prediction_vector = np.zeros(np.shape(val_scores_mean))\n",
    "    prediction_vector = 2 * val_scores_mean - train_scores_mean\n",
    "\n",
    "    best_candidate = np.argmax(prediction_vector)\n",
    "\n",
    "\n",
    "    dtcP = DecisionTreeClassifier(ccp_alpha=ccp_alphas[best_candidate])\n",
    "    dtcP.fit(train50_data, train50_classes)\n",
    "\n",
    "    # Determinar o melhor\n",
    "    dtcPred = dtc.predict(validation_data) # Pruned's.less\n",
    "    dtcPPred = dtcP.predict(validation_data) # Pruned\n",
    "\n",
    "    dtcAcc  = accuracy_score(validation_classes, dtcPred)\n",
    "    dtcPAcc = accuracy_score(validation_classes, dtcPPred)\n",
    "\n",
    "    if dtcPAcc > dtcAcc:\n",
    "        print(f\"DTC best params: com poda\")        \n",
    "        return DecisionTreeClassifier(ccp_alpha=ccp_alphas[best_candidate])\n",
    "\n",
    "    print(f\"DTC best params: sem poda\")       \n",
    "    return DecisionTreeClassifier()"
   ]
  },
  {
   "source": [
    "---\n",
    "## NBC (Naive Bayes Classifier)\n",
    "\n",
    "Para o classificador Naive Bayes, há diferentes funções no SciKit-Learn que implementam este classificador, com diferentes variações. A fim de utilizar o melhor classificador possível, realizamos um **GridSearch** manual com a função `custom_kfold` testando cada um dos possíveis classificadores existentes na biblioteca, sendo eles:\n",
    "\n",
    "- *Gaussian* Naive Bayes\n",
    "- *Multinomial* Naive Bayes\n",
    "- *Complemente* Naive Bayes\n",
    "- *Bernoulli* Naive Bayes\n",
    "\n"
   ],
   "cell_type": "markdown",
   "metadata": {}
  },
  {
   "cell_type": "code",
   "execution_count": 12,
   "metadata": {},
   "outputs": [],
   "source": [
    "gnb = GaussianNB()\n",
    "mnb = MultinomialNB()\n",
    "cnb = ComplementNB()\n",
    "bnb = BernoulliNB()"
   ]
  },
  {
   "source": [
    "A função `getBestNBC` realiza o **GridSearch** manual dentre os diferentes tipos de classificador Naive Bayes e retorna aquele com os melhores resultados."
   ],
   "cell_type": "markdown",
   "metadata": {}
  },
  {
   "cell_type": "code",
   "execution_count": 24,
   "metadata": {},
   "outputs": [],
   "source": [
    "def getBestNBC():\n",
    "    accuracies = {'GNB': [], 'MNB': [], 'CNB': [], 'BNB': []}\n",
    "    average_accuracies = {'GNB': 0, 'MNB': 0, 'CNB': 0, 'BNB': 0}\n",
    "    kfold_nb = custom_kfold()\n",
    "    # Grid Search\n",
    "    for i in range(0, 3):\n",
    "        kfold_train_data = kfold_nb['kfold_train_data'][i]\n",
    "        kfold_train_classes = kfold_nb['kfold_train_classes'][i]\n",
    "        kfold_validation_data = kfold_nb['kfold_validation_data'][i]\n",
    "        kfold_validation_classes = kfold_nb['kfold_validation_classes'][i]\n",
    "\n",
    "        ## ------- GaussianNB ------- ## \n",
    "        gnb.fit(kfold_train_data, kfold_train_classes)\n",
    "        gnbPred = gnb.predict(kfold_validation_data)\n",
    "        accuracies['GNB'].append(accuracy_score(kfold_validation_classes, gnbPred))\n",
    "\n",
    "        ## ------- MultinomialNB ------- ## \n",
    "        mnb.fit(kfold_train_data, kfold_train_classes)\n",
    "        mnbPred = mnb.predict(kfold_validation_data)\n",
    "        accuracies['MNB'].append(accuracy_score(kfold_validation_classes, mnbPred))\n",
    "\n",
    "        ## ------- ComplementNB ------- ## \n",
    "        cnb.fit(kfold_train_data, kfold_train_classes)\n",
    "        cnbPred = cnb.predict(kfold_validation_data)\n",
    "        accuracies['CNB'].append(accuracy_score(kfold_validation_classes, cnbPred))\n",
    "\n",
    "        ## ------- BernoulliNB ------- ## \n",
    "        bnb.fit(kfold_train_data, kfold_train_classes)\n",
    "        bnbPred = bnb.predict(kfold_validation_data)\n",
    "        accuracies['BNB'].append(accuracy_score(kfold_validation_classes, bnbPred))\n",
    "    \n",
    "    for classificator in accuracies:\n",
    "        average_accuracies[classificator] = np.average(accuracies[classificator])\n",
    "\n",
    "    # The best params\n",
    "    bestNB_classifier = max(average_accuracies, key=average_accuracies.get)\n",
    "    NB_classifiers = {\n",
    "        'GNB': GaussianNB(), \n",
    "        'MNB': MultinomialNB(), \n",
    "        'CNB': ComplementNB(), \n",
    "        'BNB': BernoulliNB()\n",
    "    }\n",
    "\n",
    "    Bestnb = NB_classifiers[bestNB_classifier]\n",
    "\n",
    "    print(f\"best NB: {bestNB_classifier}\")\n",
    "    return Bestnb"
   ]
  },
  {
   "source": [
    "-----------------------------\n",
    "## SVM (Support Vector Machine)\n",
    "\n",
    "No classificador SVM, utizamos a função de **GridSearch** do SciKit-Learn, realizando a busca pelos seguintes parâmetros:\n",
    "\n",
    "- C: Valor de erro\n",
    "  - variando de $10^{-3}$ a $10^3$ em escala polinomial (ou seja, com incremento do expoente)\n",
    "\n",
    "- Kernel: Polinomial ou Radial\n",
    "\n",
    "- Probabilidade: Definido como verdadeiro a fim de sempre retornar as probabilidades de cada classe ao se utilizar a função `predict_proba`"
   ],
   "cell_type": "markdown",
   "metadata": {}
  },
  {
   "cell_type": "code",
   "execution_count": 14,
   "metadata": {},
   "outputs": [],
   "source": [
    "def getBestSVM():\n",
    "    # Grid search\n",
    "    svm_parameters = {\n",
    "        'svc__C': np.logspace(-3, 3, 7),\n",
    "        'svc__kernel': ('poly', 'rbf'),\n",
    "        'svc__probability': [True]\n",
    "    }\n",
    "\n",
    "    svm_pipeline = make_pipeline(StandardScaler(), SVC())\n",
    "    svmGS = GridSearchCV(svm_pipeline, svm_parameters, cv=3)\n",
    "    svmGS.fit(train75_data, train75_classes)\n",
    "    svmBestParams = svmGS.best_params_\n",
    "    print(f\"Best svm params: {svmBestParams}\")\n",
    "    # SVM with the best parameters\n",
    "    return make_pipeline(StandardScaler(), SVC(\n",
    "        C=svmBestParams['svc__C'],\n",
    "        kernel=svmBestParams['svc__kernel'],\n",
    "        probability=svmBestParams['svc__probability']\n",
    "    ))"
   ]
  },
  {
   "source": [
    "---\n",
    "## MLP (MultiLayer Perceptron)\n",
    "\n",
    "No MultilayerPerceptron, utilizamos a função de **GridSearch** do SciKit-Learn, buscando pelos seguintes parâmetros:\n",
    "\n",
    "- hidden_layer_sizes: Tamanho de cada camada oculta e número de camadas ocultas;\n",
    "- learnin_rate_init: Taxa de aprendizagem, variando entre 0.01 e 0.03;\n",
    "- max_iter: Número de épocas de treino, variando de 100 a 500 com incrementos de 100.\n",
    "\n",
    "A busca pelo parâmetro `hidden_layer_sizes` se deu utilizando a função `hidden_layers_generation`, definida abaixo. Nela, são geradas diferentes configurações de layers. O número de layers varia de 4 a 6, enquanto o número de nós na layer final varia de 256 a 512, sendo o número de nós crescente a cada nova layer por potências de 2.\n",
    "\n",
    "Ou seja, as configurações de camadas obtidas são:\n",
    "\n",
    "- 4 Layers\n",
    "  -   [ 32,  64, 128, 256]\n",
    "  -   [ 64, 128, 256, 512]\n",
    "- 5 Layers\n",
    "  -   [ 16,  32,  64, 128, 256]\n",
    "  -   [ 32,  64, 128, 256, 512]\n",
    "- 6 Layers\n",
    "  -   [  8,  16,  32,  64, 128, 256]\n",
    "  -   [ 16,  32,  64, 128, 256, 512]\n",
    "\n",
    "Tendo em vista que o Classificador MLP leva um tempo elevado para realizar o GridSearch, durante a criação do código realizamos uma série de testes com um número ainda maior de valores para cada um dos parâmetros, definindo os parâmetros acima por se tratarem de parâmetros com maior incidência nos testes realizados. Parâmetros que nunca eram selecionados pelo GridSearch foram excluídos da busca final."
   ],
   "cell_type": "markdown",
   "metadata": {}
  },
  {
   "cell_type": "code",
   "execution_count": 15,
   "metadata": {},
   "outputs": [],
   "source": [
    "def hidden_layers_generation():\n",
    "    final_layer_config = []\n",
    "    for i in range(4, 7):\n",
    "        num_layers = i\n",
    "        for j in range(8, 10):\n",
    "            layer_temp = np.zeros((num_layers))\n",
    "            for k in range(0,num_layers):\n",
    "                layer_temp[k] = 2**(j-k)\n",
    "            final_layer_config.append(layer_temp[::-1].astype(int))\n",
    "            \n",
    "    return final_layer_config"
   ]
  },
  {
   "cell_type": "code",
   "execution_count": 16,
   "metadata": {},
   "outputs": [],
   "source": [
    "hidden_layers_size = hidden_layers_generation()\n",
    "math_iterators_learning_rate = (0.01, 0.03)\n",
    "math_iterators_max_iter = range(100, 600, 100)"
   ]
  },
  {
   "cell_type": "code",
   "execution_count": 17,
   "metadata": {},
   "outputs": [],
   "source": [
    "def getBestMLP():\n",
    "    # Grid search\n",
    "    mlp_parameters = {\n",
    "        'hidden_layer_sizes': hidden_layers_size,\n",
    "        'learning_rate_init': math_iterators_learning_rate,\n",
    "        'max_iter': math_iterators_max_iter\n",
    "    }\n",
    "    mlpGS = GridSearchCV(MLPClassifier(), mlp_parameters, cv=3, n_jobs=-1)\n",
    "    mlpGS.fit(train75_data, train75_classes)\n",
    "    # print(mlpBestParams)\n",
    "    # print(mlpGS.best_score_)\n",
    "    print(f\"Best MLP params: {mlpGS.best_params_}\")\n",
    "    # MLP with the best parameters\n",
    "    return MLPClassifier(\n",
    "        hidden_layer_sizes=mlpGS.best_params_['hidden_layer_sizes'],\n",
    "        learning_rate_init=mlpGS.best_params_['learning_rate_init'],\n",
    "        max_iter=mlpGS.best_params_['max_iter']\n",
    "    )"
   ]
  },
  {
   "source": [
    "---\n",
    "## SMC (Sistema de Múltiplos Classificadores)\n",
    "\n",
    "A partir da definição dos classificadores individuais, são criados Classificadores Múltiplos com base nas técnicas de Soma, Produto e Borda Count."
   ],
   "cell_type": "markdown",
   "metadata": {}
  },
  {
   "cell_type": "code",
   "execution_count": 18,
   "metadata": {},
   "outputs": [],
   "source": [
    "def SMCSoma(knnResult, dtcResult, svmResult, nbcResult):\n",
    "    # KNN predictions\n",
    "    knnpred0 = knnResult['pred_proba'][:, 0]\n",
    "    knnpred1 = knnResult['pred_proba'][:, 1]\n",
    "\n",
    "    # DTC predictions\n",
    "    dtcpred0 = dtcResult['pred_proba'][:, 0]\n",
    "    dtcpred1 = dtcResult['pred_proba'][:, 1]\n",
    "\n",
    "    # SVM predictions\n",
    "    svmpred0 = svmResult['pred_proba'][:, 0]\n",
    "    svmpred1 = svmResult['pred_proba'][:, 1]\n",
    "\n",
    "    # NBC predictions\n",
    "    nbcpred0 = nbcResult['pred_proba'][:, 0]\n",
    "    nbcpred1 = nbcResult['pred_proba'][:, 1]\n",
    "\n",
    "    # MLP predictions\n",
    "    mlppred0 = mlpResult['pred_proba'][:, 0]\n",
    "    mlppred1 = mlpResult['pred_proba'][:, 1]\n",
    "\n",
    "    # SMC prediction\n",
    "    smcpred1 = knnpred1 + dtcpred1 + nbcpred1 + svmpred1 + mlppred1\n",
    "    smcpred0 = knnpred0 + dtcpred0 + nbcpred0 + svmpred0 + mlppred0\n",
    "    smcResult = np.greater(smcpred1, smcpred0)\n",
    "    return accuracy_score(test_classes, smcResult) "
   ]
  },
  {
   "cell_type": "code",
   "execution_count": 19,
   "metadata": {},
   "outputs": [],
   "source": [
    "def SMCProduto(knnResult, dtcResult, svmResult, nbcResult):\n",
    "    # KNN predictions\n",
    "    knnpred0 = knnResult['pred_proba'][:, 0]\n",
    "    knnpred1 = knnResult['pred_proba'][:, 1]\n",
    "\n",
    "    # DTC predictions\n",
    "    dtcpred0 = dtcResult['pred_proba'][:, 0]\n",
    "    dtcpred1 = dtcResult['pred_proba'][:, 1]\n",
    "\n",
    "    # SVM predictions\n",
    "    svmpred0 = svmResult['pred_proba'][:, 0]\n",
    "    svmpred1 = svmResult['pred_proba'][:, 1]\n",
    "\n",
    "    # NBC predictions\n",
    "    nbcpred0 = nbcResult['pred_proba'][:, 0]\n",
    "    nbcpred1 = nbcResult['pred_proba'][:, 1]\n",
    "\n",
    "    # MLP predictions\n",
    "    mlppred0 = mlpResult['pred_proba'][:, 0]\n",
    "    mlppred1 = mlpResult['pred_proba'][:, 1]\n",
    "\n",
    "    # SMC prediction\n",
    "    smcpred1 = knnpred1 * dtcpred1 * nbcpred1 * svmpred1 * mlppred1\n",
    "    smcpred0 = knnpred0 * dtcpred0 * nbcpred0 * svmpred0 * mlppred0\n",
    "    smcResult = np.greater(smcpred1, smcpred0)\n",
    "    return accuracy_score(test_classes, smcResult) "
   ]
  },
  {
   "cell_type": "code",
   "execution_count": 20,
   "metadata": {},
   "outputs": [],
   "source": [
    "def SMCBC(knnResult, dtcResult, svmResult, nbcResult):\n",
    "    # KNN predictions\n",
    "    knnpred0 = knnResult['pred_proba'][:, 0]\n",
    "    knnpred1 = knnResult['pred_proba'][:, 1]\n",
    "\n",
    "    # DTC predictions\n",
    "    dtcpred0 = dtcResult['pred_proba'][:, 0]\n",
    "    dtcpred1 = dtcResult['pred_proba'][:, 1]\n",
    "\n",
    "    # SVM predictions\n",
    "    svmpred0 = svmResult['pred_proba'][:, 0]\n",
    "    svmpred1 = svmResult['pred_proba'][:, 1]\n",
    "\n",
    "    # NBC predictions\n",
    "    nbcpred0 = nbcResult['pred_proba'][:, 0]\n",
    "    nbcpred1 = nbcResult['pred_proba'][:, 1]\n",
    "\n",
    "    # MLP predictions\n",
    "    mlppred0 = mlpResult['pred_proba'][:, 0]\n",
    "    mlppred1 = mlpResult['pred_proba'][:, 1]\n",
    "\n",
    "    rankKNN = knnpred1 > 0.5\n",
    "    rankDTC = dtcpred1 > 0.5\n",
    "    rankNBC = nbcpred1 > 0.5\n",
    "    rankSVM = svmpred1 > 0.5\n",
    "    rankMLP = mlppred1 > 0.5\n",
    "\n",
    "    # SMC prediction\n",
    "    smcpred1 = rankKNN.astype(int) + rankDTC.astype(int) + rankNBC.astype(int) + rankSVM.astype(int) + rankMLP.astype(int)\n",
    "    smcpred0 = 5 - smcpred1 # 5 if mlp \n",
    "    smcResult = np.greater(smcpred1, smcpred0).astype(int)\n",
    "    return accuracy_score(test_classes, smcResult) "
   ]
  },
  {
   "source": [
    "---\n",
    "## Teste\n",
    "\n",
    "A fim de realizar 20 iterações de teste, definimos as funções auxiliares `getClassifPred`, que retorna as probabilidades de um classificador `clf`, e `splitEveryTime` que realiza uma nova distribuição do conjunto de treino."
   ],
   "cell_type": "markdown",
   "metadata": {}
  },
  {
   "cell_type": "code",
   "execution_count": 21,
   "metadata": {},
   "outputs": [],
   "source": [
    "def getClassifPred(clf):\n",
    "    clf.fit(train50_data, train50_classes)\n",
    "    return {\n",
    "        'pred_proba': clf.predict_proba(test_data),\n",
    "        'acc': accuracy_score(test_classes, clf.predict(test_data))\n",
    "        }"
   ]
  },
  {
   "cell_type": "code",
   "execution_count": 22,
   "metadata": {},
   "outputs": [],
   "source": [
    "def splitEveryTime():\n",
    "    global train75_data\n",
    "    global train75_classes\n",
    "    global test_data\n",
    "    global test_classes\n",
    "    global train50_data\n",
    "    global train50_classes\n",
    "    global validation_data\n",
    "    global validation_classes\n",
    "\n",
    "    train75_data, train75_classes, test_data, test_classes, train50_data, train50_classes, validation_data, validation_classes = split(data)"
   ]
  },
  {
   "source": [
    "Ao realizar as 20 iterações de teste, cada uma delas retorna quais foram os melhores parâmetros para aquele classificador em específico."
   ],
   "cell_type": "markdown",
   "metadata": {}
  },
  {
   "cell_type": "code",
   "execution_count": 25,
   "metadata": {
    "tags": []
   },
   "outputs": [
    {
     "output_type": "stream",
     "name": "stdout",
     "text": [
      "Current iteration 0\n",
      "KNN best params: {'metric': 'euclidean', 'n_neighbors': 39, 'weights': 'uniform'}\n",
      "DTC best params: com poda\n",
      "best NB: BNB\n",
      "Best svm params: {'svc__C': 0.001, 'svc__kernel': 'poly', 'svc__probability': True}\n",
      "Best MLP params: {'hidden_layer_sizes': array([  8,  16,  32,  64, 128, 256]), 'learning_rate_init': 0.03, 'max_iter': 300}\n",
      "-----------------------------------\n",
      "Current iteration 1\n",
      "KNN best params: {'metric': 'euclidean', 'n_neighbors': 25, 'weights': 'uniform'}\n",
      "DTC best params: com poda\n",
      "best NB: BNB\n",
      "Best svm params: {'svc__C': 0.001, 'svc__kernel': 'poly', 'svc__probability': True}\n",
      "Best MLP params: {'hidden_layer_sizes': array([  8,  16,  32,  64, 128, 256]), 'learning_rate_init': 0.03, 'max_iter': 500}\n",
      "-----------------------------------\n"
     ]
    }
   ],
   "source": [
    "accuracies = {\n",
    "    'KNN': [],\n",
    "    'DTC': [],\n",
    "    'NBC': [],\n",
    "    'SVM': [],\n",
    "    'MLP': [],\n",
    "    'SMCSoma': [],\n",
    "    'SMCProduto': [],\n",
    "    'SMCBC': [],\n",
    "    }\n",
    "\n",
    "for i in range(0, 20):\n",
    "    print(f\"Current iteration {i+1}\")\n",
    "    # Split, once again, the data\n",
    "    splitEveryTime()\n",
    "\n",
    "    # Grid Search (Fuck mit 🖖)\n",
    "    knn = getBestKNN() \n",
    "    dtc = getBestDTC()\n",
    "    nbc  = getBestNBC()\n",
    "    svm = getBestSVM()\n",
    "    mlp = getBestMLP()\n",
    "\n",
    "    # Ask for the classificators to predict over\n",
    "    # test\n",
    "    knnResult = getClassifPred(knn)\n",
    "    dtcResult = getClassifPred(dtc)\n",
    "    nbcResult = getClassifPred(nbc)\n",
    "    svmResult = getClassifPred(svm)\n",
    "    mlpResult = getClassifPred(mlp)\n",
    "\n",
    "    # Create the accuracies table\n",
    "    accuracies['KNN'].append(knnResult['acc'])\n",
    "    accuracies['DTC'].append(dtcResult['acc'])\n",
    "    accuracies['NBC'].append(nbcResult['acc'])\n",
    "    accuracies['SVM'].append(svmResult['acc'])\n",
    "    accuracies['MLP'].append(mlpResult['acc'])\n",
    "    accuracies['SMCSoma'].append(SMCSoma(knnResult, dtcResult, svmResult, nbcResult))\n",
    "    accuracies['SMCProduto'].append(SMCProduto(knnResult, dtcResult, svmResult, nbcResult))\n",
    "    accuracies['SMCBC'].append(SMCBC(knnResult, dtcResult, svmResult, nbcResult))\n",
    "    print(\"-----------------------------------\")\n",
    "\n",
    "# accuracies"
   ]
  },
  {
   "source": [
    "---\n",
    "## Tabelas\n",
    "\n",
    "São geradas as tabelas de acurácias dos classificadores individuais e dos classificadores múltiplos."
   ],
   "cell_type": "markdown",
   "metadata": {}
  },
  {
   "cell_type": "code",
   "execution_count": 24,
   "metadata": {},
   "outputs": [],
   "source": [
    "accuracies['KNN'].append(np.average(accuracies['KNN']))\n",
    "accuracies['DTC'].append(np.average(accuracies['DTC']))\n",
    "accuracies['NBC'].append(np.average(accuracies['NBC']))\n",
    "accuracies['SVM'].append(np.average(accuracies['SVM']))\n",
    "accuracies['MLP'].append(np.average(accuracies['MLP']))\n",
    "accuracies['SMCSoma'].append(np.average(accuracies['SMCSoma']))\n",
    "accuracies['SMCProduto'].append(np.average(accuracies['SMCProduto']))\n",
    "accuracies['SMCBC'].append(np.average(accuracies['SMCBC']))"
   ]
  },
  {
   "cell_type": "code",
   "execution_count": 25,
   "metadata": {},
   "outputs": [],
   "source": [
    "all_accs = [accuracies['KNN'], accuracies['DTC'], accuracies['NBC'], accuracies['SVM'], accuracies['MLP']]\n",
    "\n",
    "min_acc = np.min(all_accs)\n",
    "max_acc = np.max(all_accs) \n",
    "\n",
    "delta = ((max_acc - min_acc) * 1000).astype(int) + 1"
   ]
  },
  {
   "cell_type": "code",
   "execution_count": 26,
   "metadata": {},
   "outputs": [
    {
     "output_type": "display_data",
     "data": {
      "application/vnd.plotly.v1+json": {
       "config": {
        "plotlyServerURL": "https://plot.ly"
       },
       "data": [
        {
         "cells": {
          "align": "center",
          "fill": {
           "color": [
            "black",
            [
             "rgb(168.94736842105263, 168.94736842105263, 168.94736842105263)",
             "rgb(187.10526315789474, 187.10526315789474, 187.10526315789474)",
             "rgb(159.4736842105263, 159.4736842105263, 159.4736842105263)",
             "rgb(191.8421052631579, 191.8421052631579, 191.8421052631579)",
             "rgb(123.15789473684211, 123.15789473684211, 123.15789473684211)",
             "rgb(154.73684210526315, 154.73684210526315, 154.73684210526315)",
             "rgb(131.8421052631579, 131.8421052631579, 131.8421052631579)",
             "rgb(159.4736842105263, 159.4736842105263, 159.4736842105263)",
             "rgb(182.36842105263156, 182.36842105263156, 182.36842105263156)",
             "rgb(172.89473684210526, 172.89473684210526, 172.89473684210526)",
             "rgb(195.78947368421052, 195.78947368421052, 195.78947368421052)",
             "rgb(172.89473684210526, 172.89473684210526, 172.89473684210526)",
             "rgb(164.21052631578948, 164.21052631578948, 164.21052631578948)",
             "rgb(172.89473684210526, 172.89473684210526, 172.89473684210526)",
             "rgb(154.73684210526315, 154.73684210526315, 154.73684210526315)",
             "rgb(131.8421052631579, 131.8421052631579, 131.8421052631579)",
             "rgb(210.0, 210.0, 210.0)",
             "rgb(150.78947368421052, 150.78947368421052, 150.78947368421052)",
             "rgb(223.42105263157896, 223.42105263157896, 223.42105263157896)",
             "rgb(210.0, 210.0, 210.0)",
             "rgb(171.31578947368422, 171.31578947368422, 171.31578947368422)"
            ],
            [
             "rgb(45.78947368421052, 45.78947368421052, 45.78947368421052)",
             "rgb(45.78947368421052, 45.78947368421052, 45.78947368421052)",
             "rgb(49.73684210526315, 49.73684210526315, 49.73684210526315)",
             "rgb(22.89473684210526, 22.89473684210526, 22.89473684210526)",
             "rgb(72.63157894736841, 72.63157894736841, 72.63157894736841)",
             "rgb(31.57894736842104, 31.57894736842104, 31.57894736842104)",
             "rgb(54.4736842105263, 54.4736842105263, 54.4736842105263)",
             "rgb(41.05263157894737, 41.05263157894737, 41.05263157894737)",
             "rgb(45.78947368421052, 45.78947368421052, 45.78947368421052)",
             "rgb(26.84210526315789, 26.84210526315789, 26.84210526315789)",
             "rgb(90.78947368421052, 90.78947368421052, 90.78947368421052)",
             "rgb(45.78947368421052, 45.78947368421052, 45.78947368421052)",
             "rgb(41.05263157894737, 41.05263157894737, 41.05263157894737)",
             "rgb(22.89473684210526, 22.89473684210526, 22.89473684210526)",
             "rgb(22.89473684210526, 22.89473684210526, 22.89473684210526)",
             "rgb(90.78947368421052, 90.78947368421052, 90.78947368421052)",
             "rgb(45.78947368421052, 45.78947368421052, 45.78947368421052)",
             "rgb(31.57894736842104, 31.57894736842104, 31.57894736842104)",
             "rgb(18.15789473684211, 18.15789473684211, 18.15789473684211)",
             "rgb(31.57894736842104, 31.57894736842104, 31.57894736842104)",
             "rgb(44.21052631578948, 44.21052631578948, 44.21052631578948)"
            ],
            [
             "rgb(49.73684210526315, 49.73684210526315, 49.73684210526315)",
             "rgb(100.26315789473685, 100.26315789473685, 100.26315789473685)",
             "rgb(72.63157894736841, 72.63157894736841, 72.63157894736841)",
             "rgb(45.78947368421052, 45.78947368421052, 45.78947368421052)",
             "rgb(63.94736842105263, 63.94736842105263, 63.94736842105263)",
             "rgb(45.78947368421052, 45.78947368421052, 45.78947368421052)",
             "rgb(82.10526315789474, 82.10526315789474, 82.10526315789474)",
             "rgb(36.31578947368422, 36.31578947368422, 36.31578947368422)",
             "rgb(54.4736842105263, 54.4736842105263, 54.4736842105263)",
             "rgb(63.94736842105263, 63.94736842105263, 63.94736842105263)",
             "rgb(72.63157894736841, 72.63157894736841, 72.63157894736841)",
             "rgb(68.68421052631578, 68.68421052631578, 68.68421052631578)",
             "rgb(31.57894736842104, 31.57894736842104, 31.57894736842104)",
             "rgb(49.73684210526315, 49.73684210526315, 49.73684210526315)",
             "rgb(63.94736842105263, 63.94736842105263, 63.94736842105263)",
             "rgb(72.63157894736841, 72.63157894736841, 72.63157894736841)",
             "rgb(77.36842105263159, 77.36842105263159, 77.36842105263159)",
             "rgb(59.21052631578948, 59.21052631578948, 59.21052631578948)",
             "rgb(63.94736842105263, 63.94736842105263, 63.94736842105263)",
             "rgb(49.73684210526315, 49.73684210526315, 49.73684210526315)",
             "rgb(61.57894736842104, 61.57894736842104, 61.57894736842104)"
            ],
            [
             "rgb(49.73684210526315, 49.73684210526315, 49.73684210526315)",
             "rgb(59.21052631578948, 59.21052631578948, 59.21052631578948)",
             "rgb(36.31578947368422, 36.31578947368422, 36.31578947368422)",
             "rgb(26.84210526315789, 26.84210526315789, 26.84210526315789)",
             "rgb(49.73684210526315, 49.73684210526315, 49.73684210526315)",
             "rgb(45.78947368421052, 45.78947368421052, 45.78947368421052)",
             "rgb(36.31578947368422, 36.31578947368422, 36.31578947368422)",
             "rgb(31.57894736842104, 31.57894736842104, 31.57894736842104)",
             "rgb(18.15789473684211, 18.15789473684211, 18.15789473684211)",
             "rgb(41.05263157894737, 41.05263157894737, 41.05263157894737)",
             "rgb(68.68421052631578, 68.68421052631578, 68.68421052631578)",
             "rgb(26.84210526315789, 26.84210526315789, 26.84210526315789)",
             "rgb(45.78947368421052, 45.78947368421052, 45.78947368421052)",
             "rgb(36.31578947368422, 36.31578947368422, 36.31578947368422)",
             "rgb(22.89473684210526, 22.89473684210526, 22.89473684210526)",
             "rgb(54.4736842105263, 54.4736842105263, 54.4736842105263)",
             "rgb(49.73684210526315, 49.73684210526315, 49.73684210526315)",
             "rgb(59.21052631578948, 59.21052631578948, 59.21052631578948)",
             "rgb(18.15789473684211, 18.15789473684211, 18.15789473684211)",
             "rgb(0.0, 0.0, 0.0)",
             "rgb(38.68421052631578, 38.68421052631578, 38.68421052631578)"
            ],
            [
             "rgb(123.15789473684211, 123.15789473684211, 123.15789473684211)",
             "rgb(123.15789473684211, 123.15789473684211, 123.15789473684211)",
             "rgb(95.52631578947367, 95.52631578947367, 95.52631578947367)",
             "rgb(127.89473684210526, 127.89473684210526, 127.89473684210526)",
             "rgb(63.94736842105263, 63.94736842105263, 63.94736842105263)",
             "rgb(255.0, 255.0, 255.0)",
             "rgb(154.73684210526315, 154.73684210526315, 154.73684210526315)",
             "rgb(127.89473684210526, 127.89473684210526, 127.89473684210526)",
             "rgb(159.4736842105263, 159.4736842105263, 159.4736842105263)",
             "rgb(113.68421052631578, 113.68421052631578, 113.68421052631578)",
             "rgb(164.21052631578948, 164.21052631578948, 164.21052631578948)",
             "rgb(150.78947368421052, 150.78947368421052, 150.78947368421052)",
             "rgb(113.68421052631578, 113.68421052631578, 113.68421052631578)",
             "rgb(113.68421052631578, 113.68421052631578, 113.68421052631578)",
             "rgb(159.4736842105263, 159.4736842105263, 159.4736842105263)",
             "rgb(118.42105263157896, 118.42105263157896, 118.42105263157896)",
             "rgb(100.26315789473685, 100.26315789473685, 100.26315789473685)",
             "rgb(146.05263157894737, 146.05263157894737, 146.05263157894737)",
             "rgb(127.89473684210526, 127.89473684210526, 127.89473684210526)",
             "rgb(131.8421052631579, 131.8421052631579, 131.8421052631579)",
             "rgb(133.42105263157896, 133.42105263157896, 133.42105263157896)"
            ]
           ]
          },
          "font": {
           "color": [
            "white",
            [
             "rgb(152.3065015479876, 97.40866873065016, 14.074303405572756)",
             "rgb(141.26934984520125, 90.35913312693498, 12.792569659442725)",
             "rgb(158.06501547987617, 101.08668730650155, 14.743034055727554)",
             "rgb(138.39009287925697, 88.52012383900929, 12.458204334365325)",
             "rgb(180.13931888544892, 115.18575851393189, 17.306501547987615)",
             "rgb(160.94427244582045, 102.92569659442725, 15.077399380804954)",
             "rgb(174.86068111455108, 111.81424148606811, 16.693498452012385)",
             "rgb(158.06501547987617, 101.08668730650155, 14.743034055727554)",
             "rgb(144.1486068111455, 92.19814241486068, 13.126934984520123)",
             "rgb(149.90712074303406, 95.87616099071207, 13.795665634674922)",
             "rgb(135.99071207430342, 86.9876160990712, 12.179566563467493)",
             "rgb(149.90712074303406, 95.87616099071207, 13.795665634674922)",
             "rgb(155.1857585139319, 99.24767801857584, 14.408668730650154)",
             "rgb(149.90712074303406, 95.87616099071207, 13.795665634674922)",
             "rgb(160.94427244582045, 102.92569659442725, 15.077399380804954)",
             "rgb(174.86068111455108, 111.81424148606811, 16.693498452012385)",
             "rgb(127.35294117647058, 81.47058823529412, 11.176470588235293)",
             "rgb(163.343653250774, 104.45820433436532, 15.356037151702786)",
             "rgb(119.19504643962848, 76.26006191950464, 10.229102167182663)",
             "rgb(127.35294117647058, 81.47058823529412, 11.176470588235293)",
             "rgb(150.86687306501548, 96.48916408668731, 13.907120743034056)"
            ],
            [
             "rgb(227.1671826625387, 145.22291021671828, 22.76780185758514)",
             "rgb(227.1671826625387, 145.22291021671828, 22.76780185758514)",
             "rgb(224.76780185758514, 143.69040247678018, 22.489164086687307)",
             "rgb(241.08359133126936, 154.1114551083591, 24.38390092879257)",
             "rgb(210.8513931888545, 134.80185758513932, 20.873065015479874)",
             "rgb(235.8049535603715, 150.73993808049534, 23.770897832817337)",
             "rgb(221.88854489164086, 141.8513931888545, 22.154798761609907)",
             "rgb(230.04643962848297, 147.06191950464395, 23.10216718266254)",
             "rgb(227.1671826625387, 145.22291021671828, 22.76780185758514)",
             "rgb(238.68421052631578, 152.57894736842104, 24.105263157894736)",
             "rgb(199.8142414860681, 127.75232198142415, 19.591331269349844)",
             "rgb(227.1671826625387, 145.22291021671828, 22.76780185758514)",
             "rgb(230.04643962848297, 147.06191950464395, 23.10216718266254)",
             "rgb(241.08359133126936, 154.1114551083591, 24.38390092879257)",
             "rgb(241.08359133126936, 154.1114551083591, 24.38390092879257)",
             "rgb(199.8142414860681, 127.75232198142415, 19.591331269349844)",
             "rgb(227.1671826625387, 145.22291021671828, 22.76780185758514)",
             "rgb(235.8049535603715, 150.73993808049534, 23.770897832817337)",
             "rgb(243.9628482972136, 155.95046439628481, 24.71826625386997)",
             "rgb(235.8049535603715, 150.73993808049534, 23.770897832817337)",
             "rgb(228.12693498452012, 145.8359133126935, 22.879256965944272)"
            ],
            [
             "rgb(224.76780185758514, 143.69040247678018, 22.489164086687307)",
             "rgb(194.05572755417955, 124.07430340557275, 18.922600619195045)",
             "rgb(210.8513931888545, 134.80185758513932, 20.873065015479874)",
             "rgb(227.1671826625387, 145.22291021671828, 22.76780185758514)",
             "rgb(216.13003095975233, 138.1733746130031, 21.486068111455108)",
             "rgb(227.1671826625387, 145.22291021671828, 22.76780185758514)",
             "rgb(205.09287925696594, 131.1238390092879, 20.204334365325074)",
             "rgb(232.92569659442725, 148.90092879256966, 23.436532507739937)",
             "rgb(221.88854489164086, 141.8513931888545, 22.154798761609907)",
             "rgb(216.13003095975233, 138.1733746130031, 21.486068111455108)",
             "rgb(210.8513931888545, 134.80185758513932, 20.873065015479874)",
             "rgb(213.25077399380805, 136.33436532507739, 21.151702786377708)",
             "rgb(235.8049535603715, 150.73993808049534, 23.770897832817337)",
             "rgb(224.76780185758514, 143.69040247678018, 22.489164086687307)",
             "rgb(216.13003095975233, 138.1733746130031, 21.486068111455108)",
             "rgb(210.8513931888545, 134.80185758513932, 20.873065015479874)",
             "rgb(207.9721362229102, 132.9628482972136, 20.538699690402474)",
             "rgb(219.00928792569658, 140.0123839009288, 21.820433436532507)",
             "rgb(216.13003095975233, 138.1733746130031, 21.486068111455108)",
             "rgb(224.76780185758514, 143.69040247678018, 22.489164086687307)",
             "rgb(217.56965944272446, 139.09287925696594, 21.653250773993808)"
            ],
            [
             "rgb(224.76780185758514, 143.69040247678018, 22.489164086687307)",
             "rgb(219.00928792569658, 140.0123839009288, 21.820433436532507)",
             "rgb(232.92569659442725, 148.90092879256966, 23.436532507739937)",
             "rgb(238.68421052631578, 152.57894736842104, 24.105263157894736)",
             "rgb(224.76780185758514, 143.69040247678018, 22.489164086687307)",
             "rgb(227.1671826625387, 145.22291021671828, 22.76780185758514)",
             "rgb(232.92569659442725, 148.90092879256966, 23.436532507739937)",
             "rgb(235.8049535603715, 150.73993808049534, 23.770897832817337)",
             "rgb(243.9628482972136, 155.95046439628481, 24.71826625386997)",
             "rgb(230.04643962848297, 147.06191950464395, 23.10216718266254)",
             "rgb(213.25077399380805, 136.33436532507739, 21.151702786377708)",
             "rgb(238.68421052631578, 152.57894736842104, 24.105263157894736)",
             "rgb(227.1671826625387, 145.22291021671828, 22.76780185758514)",
             "rgb(232.92569659442725, 148.90092879256966, 23.436532507739937)",
             "rgb(241.08359133126936, 154.1114551083591, 24.38390092879257)",
             "rgb(221.88854489164086, 141.8513931888545, 22.154798761609907)",
             "rgb(224.76780185758514, 143.69040247678018, 22.489164086687307)",
             "rgb(219.00928792569658, 140.0123839009288, 21.820433436532507)",
             "rgb(243.9628482972136, 155.95046439628481, 24.71826625386997)",
             "rgb(255.0, 163.0, 26.0)",
             "rgb(231.4860681114551, 147.9814241486068, 23.269349845201237)"
            ],
            [
             "rgb(180.13931888544892, 115.18575851393189, 17.306501547987615)",
             "rgb(180.13931888544892, 115.18575851393189, 17.306501547987615)",
             "rgb(196.93498452012383, 125.91331269349845, 19.256965944272444)",
             "rgb(177.26006191950464, 113.34674922600618, 16.972136222910216)",
             "rgb(216.13003095975233, 138.1733746130031, 21.486068111455108)",
             "rgb(100.0, 64.0, 8.0)",
             "rgb(160.94427244582045, 102.92569659442725, 15.077399380804954)",
             "rgb(177.26006191950464, 113.34674922600618, 16.972136222910216)",
             "rgb(158.06501547987617, 101.08668730650155, 14.743034055727554)",
             "rgb(185.89783281733747, 118.86377708978327, 17.975232198142415)",
             "rgb(155.1857585139319, 99.24767801857584, 14.408668730650154)",
             "rgb(163.343653250774, 104.45820433436532, 15.356037151702786)",
             "rgb(185.89783281733747, 118.86377708978327, 17.975232198142415)",
             "rgb(185.89783281733747, 118.86377708978327, 17.975232198142415)",
             "rgb(158.06501547987617, 101.08668730650155, 14.743034055727554)",
             "rgb(183.01857585139317, 117.02476780185759, 17.640866873065015)",
             "rgb(194.05572755417955, 124.07430340557275, 18.922600619195045)",
             "rgb(166.22291021671828, 106.29721362229103, 15.690402476780186)",
             "rgb(177.26006191950464, 113.34674922600618, 16.972136222910216)",
             "rgb(174.86068111455108, 111.81424148606811, 16.693498452012385)",
             "rgb(173.90092879256966, 111.20123839009287, 16.58204334365325)"
            ]
           ],
           "family": "Comfortaa",
           "size": 12
          },
          "line": {
           "color": "black"
          },
          "values": [
           [
            1,
            2,
            3,
            4,
            5,
            6,
            7,
            8,
            9,
            10,
            11,
            12,
            13,
            14,
            15,
            16,
            17,
            18,
            19,
            20,
            "Avg"
           ],
           [
            0.6936,
            0.6705,
            0.7052,
            0.6647,
            0.7514,
            0.711,
            0.7399,
            0.7052,
            0.6763,
            0.6879,
            0.659,
            0.6879,
            0.6994,
            0.6879,
            0.711,
            0.7399,
            0.6416,
            0.7168,
            0.6243,
            0.6416,
            0.6908
           ],
           [
            0.8497,
            0.8497,
            0.8439,
            0.8786,
            0.815,
            0.8671,
            0.8382,
            0.8555,
            0.8497,
            0.8728,
            0.7919,
            0.8497,
            0.8555,
            0.8786,
            0.8786,
            0.7919,
            0.8497,
            0.8671,
            0.8844,
            0.8671,
            0.8517
           ],
           [
            0.8439,
            0.7803,
            0.815,
            0.8497,
            0.8266,
            0.8497,
            0.8035,
            0.8613,
            0.8382,
            0.8266,
            0.815,
            0.8208,
            0.8671,
            0.8439,
            0.8266,
            0.815,
            0.8092,
            0.8324,
            0.8266,
            0.8439,
            0.8298
           ],
           [
            0.8439,
            0.8324,
            0.8613,
            0.8728,
            0.8439,
            0.8497,
            0.8613,
            0.8671,
            0.8844,
            0.8555,
            0.8208,
            0.8728,
            0.8497,
            0.8613,
            0.8786,
            0.8382,
            0.8439,
            0.8324,
            0.8844,
            0.9075,
            0.8581
           ],
           [
            0.7514,
            0.7514,
            0.7861,
            0.7457,
            0.8266,
            0.5838,
            0.711,
            0.7457,
            0.7052,
            0.763,
            0.6994,
            0.7168,
            0.763,
            0.763,
            0.7052,
            0.7572,
            0.7803,
            0.7225,
            0.7457,
            0.7399,
            0.7382
           ]
          ]
         },
         "header": {
          "align": "center",
          "fill": {
           "color": "white"
          },
          "font": {
           "color": "black",
           "family": "comfortaa",
           "size": 12
          },
          "line": {
           "color": "black"
          },
          "values": [
           "<b>Iteração</b>",
           "<b>KNN</b>",
           "<b>DTC</b>",
           "<b>NBC</b>",
           "<b>SVM</b>",
           "<b>MLP</b>"
          ]
         },
         "type": "table"
        }
       ],
       "layout": {
        "template": {
         "data": {
          "bar": [
           {
            "error_x": {
             "color": "#2a3f5f"
            },
            "error_y": {
             "color": "#2a3f5f"
            },
            "marker": {
             "line": {
              "color": "#E5ECF6",
              "width": 0.5
             }
            },
            "type": "bar"
           }
          ],
          "barpolar": [
           {
            "marker": {
             "line": {
              "color": "#E5ECF6",
              "width": 0.5
             }
            },
            "type": "barpolar"
           }
          ],
          "carpet": [
           {
            "aaxis": {
             "endlinecolor": "#2a3f5f",
             "gridcolor": "white",
             "linecolor": "white",
             "minorgridcolor": "white",
             "startlinecolor": "#2a3f5f"
            },
            "baxis": {
             "endlinecolor": "#2a3f5f",
             "gridcolor": "white",
             "linecolor": "white",
             "minorgridcolor": "white",
             "startlinecolor": "#2a3f5f"
            },
            "type": "carpet"
           }
          ],
          "choropleth": [
           {
            "colorbar": {
             "outlinewidth": 0,
             "ticks": ""
            },
            "type": "choropleth"
           }
          ],
          "contour": [
           {
            "colorbar": {
             "outlinewidth": 0,
             "ticks": ""
            },
            "colorscale": [
             [
              0,
              "#0d0887"
             ],
             [
              0.1111111111111111,
              "#46039f"
             ],
             [
              0.2222222222222222,
              "#7201a8"
             ],
             [
              0.3333333333333333,
              "#9c179e"
             ],
             [
              0.4444444444444444,
              "#bd3786"
             ],
             [
              0.5555555555555556,
              "#d8576b"
             ],
             [
              0.6666666666666666,
              "#ed7953"
             ],
             [
              0.7777777777777778,
              "#fb9f3a"
             ],
             [
              0.8888888888888888,
              "#fdca26"
             ],
             [
              1,
              "#f0f921"
             ]
            ],
            "type": "contour"
           }
          ],
          "contourcarpet": [
           {
            "colorbar": {
             "outlinewidth": 0,
             "ticks": ""
            },
            "type": "contourcarpet"
           }
          ],
          "heatmap": [
           {
            "colorbar": {
             "outlinewidth": 0,
             "ticks": ""
            },
            "colorscale": [
             [
              0,
              "#0d0887"
             ],
             [
              0.1111111111111111,
              "#46039f"
             ],
             [
              0.2222222222222222,
              "#7201a8"
             ],
             [
              0.3333333333333333,
              "#9c179e"
             ],
             [
              0.4444444444444444,
              "#bd3786"
             ],
             [
              0.5555555555555556,
              "#d8576b"
             ],
             [
              0.6666666666666666,
              "#ed7953"
             ],
             [
              0.7777777777777778,
              "#fb9f3a"
             ],
             [
              0.8888888888888888,
              "#fdca26"
             ],
             [
              1,
              "#f0f921"
             ]
            ],
            "type": "heatmap"
           }
          ],
          "heatmapgl": [
           {
            "colorbar": {
             "outlinewidth": 0,
             "ticks": ""
            },
            "colorscale": [
             [
              0,
              "#0d0887"
             ],
             [
              0.1111111111111111,
              "#46039f"
             ],
             [
              0.2222222222222222,
              "#7201a8"
             ],
             [
              0.3333333333333333,
              "#9c179e"
             ],
             [
              0.4444444444444444,
              "#bd3786"
             ],
             [
              0.5555555555555556,
              "#d8576b"
             ],
             [
              0.6666666666666666,
              "#ed7953"
             ],
             [
              0.7777777777777778,
              "#fb9f3a"
             ],
             [
              0.8888888888888888,
              "#fdca26"
             ],
             [
              1,
              "#f0f921"
             ]
            ],
            "type": "heatmapgl"
           }
          ],
          "histogram": [
           {
            "marker": {
             "colorbar": {
              "outlinewidth": 0,
              "ticks": ""
             }
            },
            "type": "histogram"
           }
          ],
          "histogram2d": [
           {
            "colorbar": {
             "outlinewidth": 0,
             "ticks": ""
            },
            "colorscale": [
             [
              0,
              "#0d0887"
             ],
             [
              0.1111111111111111,
              "#46039f"
             ],
             [
              0.2222222222222222,
              "#7201a8"
             ],
             [
              0.3333333333333333,
              "#9c179e"
             ],
             [
              0.4444444444444444,
              "#bd3786"
             ],
             [
              0.5555555555555556,
              "#d8576b"
             ],
             [
              0.6666666666666666,
              "#ed7953"
             ],
             [
              0.7777777777777778,
              "#fb9f3a"
             ],
             [
              0.8888888888888888,
              "#fdca26"
             ],
             [
              1,
              "#f0f921"
             ]
            ],
            "type": "histogram2d"
           }
          ],
          "histogram2dcontour": [
           {
            "colorbar": {
             "outlinewidth": 0,
             "ticks": ""
            },
            "colorscale": [
             [
              0,
              "#0d0887"
             ],
             [
              0.1111111111111111,
              "#46039f"
             ],
             [
              0.2222222222222222,
              "#7201a8"
             ],
             [
              0.3333333333333333,
              "#9c179e"
             ],
             [
              0.4444444444444444,
              "#bd3786"
             ],
             [
              0.5555555555555556,
              "#d8576b"
             ],
             [
              0.6666666666666666,
              "#ed7953"
             ],
             [
              0.7777777777777778,
              "#fb9f3a"
             ],
             [
              0.8888888888888888,
              "#fdca26"
             ],
             [
              1,
              "#f0f921"
             ]
            ],
            "type": "histogram2dcontour"
           }
          ],
          "mesh3d": [
           {
            "colorbar": {
             "outlinewidth": 0,
             "ticks": ""
            },
            "type": "mesh3d"
           }
          ],
          "parcoords": [
           {
            "line": {
             "colorbar": {
              "outlinewidth": 0,
              "ticks": ""
             }
            },
            "type": "parcoords"
           }
          ],
          "pie": [
           {
            "automargin": true,
            "type": "pie"
           }
          ],
          "scatter": [
           {
            "marker": {
             "colorbar": {
              "outlinewidth": 0,
              "ticks": ""
             }
            },
            "type": "scatter"
           }
          ],
          "scatter3d": [
           {
            "line": {
             "colorbar": {
              "outlinewidth": 0,
              "ticks": ""
             }
            },
            "marker": {
             "colorbar": {
              "outlinewidth": 0,
              "ticks": ""
             }
            },
            "type": "scatter3d"
           }
          ],
          "scattercarpet": [
           {
            "marker": {
             "colorbar": {
              "outlinewidth": 0,
              "ticks": ""
             }
            },
            "type": "scattercarpet"
           }
          ],
          "scattergeo": [
           {
            "marker": {
             "colorbar": {
              "outlinewidth": 0,
              "ticks": ""
             }
            },
            "type": "scattergeo"
           }
          ],
          "scattergl": [
           {
            "marker": {
             "colorbar": {
              "outlinewidth": 0,
              "ticks": ""
             }
            },
            "type": "scattergl"
           }
          ],
          "scattermapbox": [
           {
            "marker": {
             "colorbar": {
              "outlinewidth": 0,
              "ticks": ""
             }
            },
            "type": "scattermapbox"
           }
          ],
          "scatterpolar": [
           {
            "marker": {
             "colorbar": {
              "outlinewidth": 0,
              "ticks": ""
             }
            },
            "type": "scatterpolar"
           }
          ],
          "scatterpolargl": [
           {
            "marker": {
             "colorbar": {
              "outlinewidth": 0,
              "ticks": ""
             }
            },
            "type": "scatterpolargl"
           }
          ],
          "scatterternary": [
           {
            "marker": {
             "colorbar": {
              "outlinewidth": 0,
              "ticks": ""
             }
            },
            "type": "scatterternary"
           }
          ],
          "surface": [
           {
            "colorbar": {
             "outlinewidth": 0,
             "ticks": ""
            },
            "colorscale": [
             [
              0,
              "#0d0887"
             ],
             [
              0.1111111111111111,
              "#46039f"
             ],
             [
              0.2222222222222222,
              "#7201a8"
             ],
             [
              0.3333333333333333,
              "#9c179e"
             ],
             [
              0.4444444444444444,
              "#bd3786"
             ],
             [
              0.5555555555555556,
              "#d8576b"
             ],
             [
              0.6666666666666666,
              "#ed7953"
             ],
             [
              0.7777777777777778,
              "#fb9f3a"
             ],
             [
              0.8888888888888888,
              "#fdca26"
             ],
             [
              1,
              "#f0f921"
             ]
            ],
            "type": "surface"
           }
          ],
          "table": [
           {
            "cells": {
             "fill": {
              "color": "#EBF0F8"
             },
             "line": {
              "color": "white"
             }
            },
            "header": {
             "fill": {
              "color": "#C8D4E3"
             },
             "line": {
              "color": "white"
             }
            },
            "type": "table"
           }
          ]
         },
         "layout": {
          "annotationdefaults": {
           "arrowcolor": "#2a3f5f",
           "arrowhead": 0,
           "arrowwidth": 1
          },
          "coloraxis": {
           "colorbar": {
            "outlinewidth": 0,
            "ticks": ""
           }
          },
          "colorscale": {
           "diverging": [
            [
             0,
             "#8e0152"
            ],
            [
             0.1,
             "#c51b7d"
            ],
            [
             0.2,
             "#de77ae"
            ],
            [
             0.3,
             "#f1b6da"
            ],
            [
             0.4,
             "#fde0ef"
            ],
            [
             0.5,
             "#f7f7f7"
            ],
            [
             0.6,
             "#e6f5d0"
            ],
            [
             0.7,
             "#b8e186"
            ],
            [
             0.8,
             "#7fbc41"
            ],
            [
             0.9,
             "#4d9221"
            ],
            [
             1,
             "#276419"
            ]
           ],
           "sequential": [
            [
             0,
             "#0d0887"
            ],
            [
             0.1111111111111111,
             "#46039f"
            ],
            [
             0.2222222222222222,
             "#7201a8"
            ],
            [
             0.3333333333333333,
             "#9c179e"
            ],
            [
             0.4444444444444444,
             "#bd3786"
            ],
            [
             0.5555555555555556,
             "#d8576b"
            ],
            [
             0.6666666666666666,
             "#ed7953"
            ],
            [
             0.7777777777777778,
             "#fb9f3a"
            ],
            [
             0.8888888888888888,
             "#fdca26"
            ],
            [
             1,
             "#f0f921"
            ]
           ],
           "sequentialminus": [
            [
             0,
             "#0d0887"
            ],
            [
             0.1111111111111111,
             "#46039f"
            ],
            [
             0.2222222222222222,
             "#7201a8"
            ],
            [
             0.3333333333333333,
             "#9c179e"
            ],
            [
             0.4444444444444444,
             "#bd3786"
            ],
            [
             0.5555555555555556,
             "#d8576b"
            ],
            [
             0.6666666666666666,
             "#ed7953"
            ],
            [
             0.7777777777777778,
             "#fb9f3a"
            ],
            [
             0.8888888888888888,
             "#fdca26"
            ],
            [
             1,
             "#f0f921"
            ]
           ]
          },
          "colorway": [
           "#636efa",
           "#EF553B",
           "#00cc96",
           "#ab63fa",
           "#FFA15A",
           "#19d3f3",
           "#FF6692",
           "#B6E880",
           "#FF97FF",
           "#FECB52"
          ],
          "font": {
           "color": "#2a3f5f"
          },
          "geo": {
           "bgcolor": "white",
           "lakecolor": "white",
           "landcolor": "#E5ECF6",
           "showlakes": true,
           "showland": true,
           "subunitcolor": "white"
          },
          "hoverlabel": {
           "align": "left"
          },
          "hovermode": "closest",
          "mapbox": {
           "style": "light"
          },
          "paper_bgcolor": "white",
          "plot_bgcolor": "#E5ECF6",
          "polar": {
           "angularaxis": {
            "gridcolor": "white",
            "linecolor": "white",
            "ticks": ""
           },
           "bgcolor": "#E5ECF6",
           "radialaxis": {
            "gridcolor": "white",
            "linecolor": "white",
            "ticks": ""
           }
          },
          "scene": {
           "xaxis": {
            "backgroundcolor": "#E5ECF6",
            "gridcolor": "white",
            "gridwidth": 2,
            "linecolor": "white",
            "showbackground": true,
            "ticks": "",
            "zerolinecolor": "white"
           },
           "yaxis": {
            "backgroundcolor": "#E5ECF6",
            "gridcolor": "white",
            "gridwidth": 2,
            "linecolor": "white",
            "showbackground": true,
            "ticks": "",
            "zerolinecolor": "white"
           },
           "zaxis": {
            "backgroundcolor": "#E5ECF6",
            "gridcolor": "white",
            "gridwidth": 2,
            "linecolor": "white",
            "showbackground": true,
            "ticks": "",
            "zerolinecolor": "white"
           }
          },
          "shapedefaults": {
           "line": {
            "color": "#2a3f5f"
           }
          },
          "ternary": {
           "aaxis": {
            "gridcolor": "white",
            "linecolor": "white",
            "ticks": ""
           },
           "baxis": {
            "gridcolor": "white",
            "linecolor": "white",
            "ticks": ""
           },
           "bgcolor": "#E5ECF6",
           "caxis": {
            "gridcolor": "white",
            "linecolor": "white",
            "ticks": ""
           }
          },
          "title": {
           "x": 0.05
          },
          "xaxis": {
           "automargin": true,
           "gridcolor": "white",
           "linecolor": "white",
           "ticks": "",
           "title": {
            "standoff": 15
           },
           "zerolinecolor": "white",
           "zerolinewidth": 2
          },
          "yaxis": {
           "automargin": true,
           "gridcolor": "white",
           "linecolor": "white",
           "ticks": "",
           "title": {
            "standoff": 15
           },
           "zerolinecolor": "white",
           "zerolinewidth": 2
          }
         }
        }
       }
      }
     },
     "metadata": {}
    }
   ],
   "source": [
    "colors = n_colors('rgb(255, 255, 255)', 'rgb(0, 0, 0)', delta, colortype='rgb')\n",
    "reversed_colors = n_colors('rgb(100, 64, 8)', 'rgb(255, 163, 26)', delta, colortype='rgb')\n",
    "iterations = [i for i in range(1, 21)]\n",
    "\n",
    "iterations.append('Avg')\n",
    "fig = go.Figure(data=[go.Table(\n",
    "  header=dict(\n",
    "    values=['<b>Iteração</b>', '<b>KNN</b>', '<b>DTC</b>', '<b>NBC</b>', '<b>SVM</b>', '<b>MLP</b>'],\n",
    "    line_color='black', fill_color='white',\n",
    "    align='center',\n",
    "    font=dict(color='black', size=12, family='comfortaa')\n",
    "  ),\n",
    "  cells=dict(\n",
    "    values=[\n",
    "        iterations, \n",
    "        np.round(accuracies['KNN'], 4),\n",
    "        np.round(accuracies['DTC'], 4),\n",
    "        np.round(accuracies['NBC'], 4),\n",
    "        np.round(accuracies['SVM'], 4),\n",
    "        np.round(accuracies['MLP'], 4)\n",
    "        ],\n",
    "    line_color='black',\n",
    "    fill_color=[\n",
    "        'black',\n",
    "        np.array(colors)[(((np.array(accuracies['KNN'])-min_acc)*1000)).astype(int)],\n",
    "        np.array(colors)[(((np.array(accuracies['DTC'])-min_acc)*1000)).astype(int)], \n",
    "        np.array(colors)[(((np.array(accuracies['NBC'])-min_acc)*1000)).astype(int)], \n",
    "        np.array(colors)[(((np.array(accuracies['SVM'])-min_acc)*1000)).astype(int)], \n",
    "        np.array(colors)[(((np.array(accuracies['MLP'])-min_acc)*1000)).astype(int)]\n",
    "        ],\n",
    "    align='center',\n",
    "    font=dict(\n",
    "        color=[\n",
    "            'white',\n",
    "            np.array(reversed_colors)[(((np.array(accuracies['KNN'])-min_acc)*1000)).astype(int)],\n",
    "            np.array(reversed_colors)[(((np.array(accuracies['DTC'])-min_acc)*1000)).astype(int)], \n",
    "            np.array(reversed_colors)[(((np.array(accuracies['NBC'])-min_acc)*1000)).astype(int)], \n",
    "            np.array(reversed_colors)[(((np.array(accuracies['SVM'])-min_acc)*1000)).astype(int)], \n",
    "            np.array(reversed_colors)[(((np.array(accuracies['MLP'])-min_acc)*1000)).astype(int)]\n",
    "            ], \n",
    "        size=12, \n",
    "        family=\"Comfortaa\",\n",
    "        )\n",
    "    ))\n",
    "])\n",
    "\n",
    "fig.show()"
   ]
  },
  {
   "source": [
    "<img src=\"./images/table1.gif\"></img>"
   ],
   "cell_type": "markdown",
   "metadata": {}
  },
  {
   "cell_type": "code",
   "execution_count": 27,
   "metadata": {},
   "outputs": [],
   "source": [
    "all_accs = [accuracies['SMCSoma'], accuracies['SMCProduto'], accuracies['SMCBC']]\n",
    "\n",
    "min_acc = np.min(all_accs)\n",
    "max_acc = np.max(all_accs) \n",
    "\n",
    "delta = ((max_acc - min_acc) * 1000).astype(int) + 1"
   ]
  },
  {
   "cell_type": "code",
   "execution_count": 28,
   "metadata": {},
   "outputs": [
    {
     "output_type": "display_data",
     "data": {
      "application/vnd.plotly.v1+json": {
       "config": {
        "plotlyServerURL": "https://plot.ly"
       },
       "data": [
        {
         "cells": {
          "align": "center",
          "fill": {
           "color": [
            "black",
            [
             "rgb(110.11363636363635, 110.11363636363635, 110.11363636363635)",
             "rgb(154.54545454545456, 154.54545454545456, 154.54545454545456)",
             "rgb(65.68181818181819, 65.68181818181819, 65.68181818181819)",
             "rgb(44.43181818181819, 44.43181818181819, 44.43181818181819)",
             "rgb(121.70454545454544, 121.70454545454544, 121.70454545454544)",
             "rgb(32.84090909090909, 32.84090909090909, 32.84090909090909)",
             "rgb(121.70454545454544, 121.70454545454544, 121.70454545454544)",
             "rgb(65.68181818181819, 65.68181818181819, 65.68181818181819)",
             "rgb(21.25, 21.25, 21.25)",
             "rgb(77.27272727272728, 77.27272727272728, 77.27272727272728)",
             "rgb(166.13636363636363, 166.13636363636363, 166.13636363636363)",
             "rgb(100.45454545454544, 100.45454545454544, 100.45454545454544)",
             "rgb(44.43181818181819, 44.43181818181819, 44.43181818181819)",
             "rgb(77.27272727272728, 77.27272727272728, 77.27272727272728)",
             "rgb(54.09090909090909, 54.09090909090909, 54.09090909090909)",
             "rgb(100.45454545454544, 100.45454545454544, 100.45454545454544)",
             "rgb(133.29545454545456, 133.29545454545456, 133.29545454545456)",
             "rgb(154.54545454545456, 154.54545454545456, 154.54545454545456)",
             "rgb(88.86363636363635, 88.86363636363635, 88.86363636363635)",
             "rgb(54.09090909090909, 54.09090909090909, 54.09090909090909)",
             "rgb(88.86363636363635, 88.86363636363635, 88.86363636363635)"
            ],
            [
             "rgb(110.11363636363635, 110.11363636363635, 110.11363636363635)",
             "rgb(154.54545454545456, 154.54545454545456, 154.54545454545456)",
             "rgb(77.27272727272728, 77.27272727272728, 77.27272727272728)",
             "rgb(65.68181818181819, 65.68181818181819, 65.68181818181819)",
             "rgb(144.88636363636363, 144.88636363636363, 144.88636363636363)",
             "rgb(32.84090909090909, 32.84090909090909, 32.84090909090909)",
             "rgb(121.70454545454544, 121.70454545454544, 121.70454545454544)",
             "rgb(77.27272727272728, 77.27272727272728, 77.27272727272728)",
             "rgb(21.25, 21.25, 21.25)",
             "rgb(77.27272727272728, 77.27272727272728, 77.27272727272728)",
             "rgb(233.75, 233.75, 233.75)",
             "rgb(121.70454545454544, 121.70454545454544, 121.70454545454544)",
             "rgb(77.27272727272728, 77.27272727272728, 77.27272727272728)",
             "rgb(88.86363636363635, 88.86363636363635, 88.86363636363635)",
             "rgb(54.09090909090909, 54.09090909090909, 54.09090909090909)",
             "rgb(166.13636363636363, 166.13636363636363, 166.13636363636363)",
             "rgb(255.0, 255.0, 255.0)",
             "rgb(154.54545454545456, 154.54545454545456, 154.54545454545456)",
             "rgb(110.11363636363635, 110.11363636363635, 110.11363636363635)",
             "rgb(44.43181818181819, 44.43181818181819, 44.43181818181819)",
             "rgb(110.11363636363635, 110.11363636363635, 110.11363636363635)"
            ],
            [
             "rgb(88.86363636363635, 88.86363636363635, 88.86363636363635)",
             "rgb(166.13636363636363, 166.13636363636363, 166.13636363636363)",
             "rgb(65.68181818181819, 65.68181818181819, 65.68181818181819)",
             "rgb(44.43181818181819, 44.43181818181819, 44.43181818181819)",
             "rgb(110.11363636363635, 110.11363636363635, 110.11363636363635)",
             "rgb(65.68181818181819, 65.68181818181819, 65.68181818181819)",
             "rgb(110.11363636363635, 110.11363636363635, 110.11363636363635)",
             "rgb(88.86363636363635, 88.86363636363635, 88.86363636363635)",
             "rgb(166.13636363636363, 166.13636363636363, 166.13636363636363)",
             "rgb(77.27272727272728, 77.27272727272728, 77.27272727272728)",
             "rgb(189.3181818181818, 189.3181818181818, 189.3181818181818)",
             "rgb(121.70454545454544, 121.70454545454544, 121.70454545454544)",
             "rgb(65.68181818181819, 65.68181818181819, 65.68181818181819)",
             "rgb(88.86363636363635, 88.86363636363635, 88.86363636363635)",
             "rgb(54.09090909090909, 54.09090909090909, 54.09090909090909)",
             "rgb(133.29545454545456, 133.29545454545456, 133.29545454545456)",
             "rgb(110.11363636363635, 110.11363636363635, 110.11363636363635)",
             "rgb(121.70454545454544, 121.70454545454544, 121.70454545454544)",
             "rgb(100.45454545454544, 100.45454545454544, 100.45454545454544)",
             "rgb(0.0, 0.0, 0.0)",
             "rgb(98.52272727272728, 98.52272727272728, 98.52272727272728)"
            ]
           ]
          },
          "font": {
           "color": [
            "white",
            [
             "rgb(188.0681818181818, 120.25, 18.227272727272727)",
             "rgb(161.06060606060606, 103.0, 15.09090909090909)",
             "rgb(215.07575757575756, 137.5, 21.363636363636363)",
             "rgb(227.99242424242425, 145.75, 22.863636363636363)",
             "rgb(181.02272727272728, 115.75, 17.409090909090907)",
             "rgb(235.03787878787878, 150.25, 23.68181818181818)",
             "rgb(181.02272727272728, 115.75, 17.409090909090907)",
             "rgb(215.07575757575756, 137.5, 21.363636363636363)",
             "rgb(242.08333333333334, 154.75, 24.5)",
             "rgb(208.03030303030303, 133.0, 20.545454545454547)",
             "rgb(154.0151515151515, 98.5, 14.272727272727273)",
             "rgb(193.93939393939394, 124.0, 18.909090909090907)",
             "rgb(227.99242424242425, 145.75, 22.863636363636363)",
             "rgb(208.03030303030303, 133.0, 20.545454545454547)",
             "rgb(222.12121212121212, 142.0, 22.18181818181818)",
             "rgb(193.93939393939394, 124.0, 18.909090909090907)",
             "rgb(173.97727272727275, 111.25, 16.59090909090909)",
             "rgb(161.06060606060606, 103.0, 15.09090909090909)",
             "rgb(200.9848484848485, 128.5, 19.727272727272727)",
             "rgb(222.12121212121212, 142.0, 22.18181818181818)",
             "rgb(200.9848484848485, 128.5, 19.727272727272727)"
            ],
            [
             "rgb(188.0681818181818, 120.25, 18.227272727272727)",
             "rgb(161.06060606060606, 103.0, 15.09090909090909)",
             "rgb(208.03030303030303, 133.0, 20.545454545454547)",
             "rgb(215.07575757575756, 137.5, 21.363636363636363)",
             "rgb(166.9318181818182, 106.75, 15.772727272727273)",
             "rgb(235.03787878787878, 150.25, 23.68181818181818)",
             "rgb(181.02272727272728, 115.75, 17.409090909090907)",
             "rgb(208.03030303030303, 133.0, 20.545454545454547)",
             "rgb(242.08333333333334, 154.75, 24.5)",
             "rgb(208.03030303030303, 133.0, 20.545454545454547)",
             "rgb(112.91666666666667, 72.25, 9.5)",
             "rgb(181.02272727272728, 115.75, 17.409090909090907)",
             "rgb(208.03030303030303, 133.0, 20.545454545454547)",
             "rgb(200.9848484848485, 128.5, 19.727272727272727)",
             "rgb(222.12121212121212, 142.0, 22.18181818181818)",
             "rgb(154.0151515151515, 98.5, 14.272727272727273)",
             "rgb(100.0, 64.0, 8.0)",
             "rgb(161.06060606060606, 103.0, 15.09090909090909)",
             "rgb(188.0681818181818, 120.25, 18.227272727272727)",
             "rgb(227.99242424242425, 145.75, 22.863636363636363)",
             "rgb(188.0681818181818, 120.25, 18.227272727272727)"
            ],
            [
             "rgb(200.9848484848485, 128.5, 19.727272727272727)",
             "rgb(154.0151515151515, 98.5, 14.272727272727273)",
             "rgb(215.07575757575756, 137.5, 21.363636363636363)",
             "rgb(227.99242424242425, 145.75, 22.863636363636363)",
             "rgb(188.0681818181818, 120.25, 18.227272727272727)",
             "rgb(215.07575757575756, 137.5, 21.363636363636363)",
             "rgb(188.0681818181818, 120.25, 18.227272727272727)",
             "rgb(200.9848484848485, 128.5, 19.727272727272727)",
             "rgb(154.0151515151515, 98.5, 14.272727272727273)",
             "rgb(208.03030303030303, 133.0, 20.545454545454547)",
             "rgb(139.92424242424244, 89.5, 12.636363636363637)",
             "rgb(181.02272727272728, 115.75, 17.409090909090907)",
             "rgb(215.07575757575756, 137.5, 21.363636363636363)",
             "rgb(200.9848484848485, 128.5, 19.727272727272727)",
             "rgb(222.12121212121212, 142.0, 22.18181818181818)",
             "rgb(173.97727272727275, 111.25, 16.59090909090909)",
             "rgb(188.0681818181818, 120.25, 18.227272727272727)",
             "rgb(181.02272727272728, 115.75, 17.409090909090907)",
             "rgb(193.93939393939394, 124.0, 18.909090909090907)",
             "rgb(255.0, 163.0, 26.0)",
             "rgb(195.11363636363637, 124.75, 19.045454545454547)"
            ]
           ],
           "family": "Comfortaa",
           "size": 12
          },
          "line": {
           "color": "black"
          },
          "values": [
           [
            1,
            2,
            3,
            4,
            5,
            6,
            7,
            8,
            9,
            10,
            11,
            12,
            13,
            14,
            15,
            16,
            17,
            18,
            19,
            20,
            "Avg"
           ],
           [
            0.8555,
            0.8324,
            0.8786,
            0.8902,
            0.8497,
            0.896,
            0.8497,
            0.8786,
            0.9017,
            0.8728,
            0.8266,
            0.8613,
            0.8902,
            0.8728,
            0.8844,
            0.8613,
            0.8439,
            0.8324,
            0.8671,
            0.8844,
            0.8665
           ],
           [
            0.8555,
            0.8324,
            0.8728,
            0.8786,
            0.8382,
            0.896,
            0.8497,
            0.8728,
            0.9017,
            0.8728,
            0.7919,
            0.8497,
            0.8728,
            0.8671,
            0.8844,
            0.8266,
            0.7803,
            0.8324,
            0.8555,
            0.8902,
            0.8561
           ],
           [
            0.8671,
            0.8266,
            0.8786,
            0.8902,
            0.8555,
            0.8786,
            0.8555,
            0.8671,
            0.8266,
            0.8728,
            0.815,
            0.8497,
            0.8786,
            0.8671,
            0.8844,
            0.8439,
            0.8555,
            0.8497,
            0.8613,
            0.9133,
            0.8618
           ]
          ]
         },
         "header": {
          "align": "center",
          "fill": {
           "color": "white"
          },
          "font": {
           "color": "black",
           "family": "comfortaa",
           "size": 12
          },
          "line": {
           "color": "black"
          },
          "values": [
           "<b>Iteração</b>",
           "<b>Soma</b>",
           "<b>Produto</b>",
           "<b>Borda Count</b>"
          ]
         },
         "type": "table"
        }
       ],
       "layout": {
        "template": {
         "data": {
          "bar": [
           {
            "error_x": {
             "color": "#2a3f5f"
            },
            "error_y": {
             "color": "#2a3f5f"
            },
            "marker": {
             "line": {
              "color": "#E5ECF6",
              "width": 0.5
             }
            },
            "type": "bar"
           }
          ],
          "barpolar": [
           {
            "marker": {
             "line": {
              "color": "#E5ECF6",
              "width": 0.5
             }
            },
            "type": "barpolar"
           }
          ],
          "carpet": [
           {
            "aaxis": {
             "endlinecolor": "#2a3f5f",
             "gridcolor": "white",
             "linecolor": "white",
             "minorgridcolor": "white",
             "startlinecolor": "#2a3f5f"
            },
            "baxis": {
             "endlinecolor": "#2a3f5f",
             "gridcolor": "white",
             "linecolor": "white",
             "minorgridcolor": "white",
             "startlinecolor": "#2a3f5f"
            },
            "type": "carpet"
           }
          ],
          "choropleth": [
           {
            "colorbar": {
             "outlinewidth": 0,
             "ticks": ""
            },
            "type": "choropleth"
           }
          ],
          "contour": [
           {
            "colorbar": {
             "outlinewidth": 0,
             "ticks": ""
            },
            "colorscale": [
             [
              0,
              "#0d0887"
             ],
             [
              0.1111111111111111,
              "#46039f"
             ],
             [
              0.2222222222222222,
              "#7201a8"
             ],
             [
              0.3333333333333333,
              "#9c179e"
             ],
             [
              0.4444444444444444,
              "#bd3786"
             ],
             [
              0.5555555555555556,
              "#d8576b"
             ],
             [
              0.6666666666666666,
              "#ed7953"
             ],
             [
              0.7777777777777778,
              "#fb9f3a"
             ],
             [
              0.8888888888888888,
              "#fdca26"
             ],
             [
              1,
              "#f0f921"
             ]
            ],
            "type": "contour"
           }
          ],
          "contourcarpet": [
           {
            "colorbar": {
             "outlinewidth": 0,
             "ticks": ""
            },
            "type": "contourcarpet"
           }
          ],
          "heatmap": [
           {
            "colorbar": {
             "outlinewidth": 0,
             "ticks": ""
            },
            "colorscale": [
             [
              0,
              "#0d0887"
             ],
             [
              0.1111111111111111,
              "#46039f"
             ],
             [
              0.2222222222222222,
              "#7201a8"
             ],
             [
              0.3333333333333333,
              "#9c179e"
             ],
             [
              0.4444444444444444,
              "#bd3786"
             ],
             [
              0.5555555555555556,
              "#d8576b"
             ],
             [
              0.6666666666666666,
              "#ed7953"
             ],
             [
              0.7777777777777778,
              "#fb9f3a"
             ],
             [
              0.8888888888888888,
              "#fdca26"
             ],
             [
              1,
              "#f0f921"
             ]
            ],
            "type": "heatmap"
           }
          ],
          "heatmapgl": [
           {
            "colorbar": {
             "outlinewidth": 0,
             "ticks": ""
            },
            "colorscale": [
             [
              0,
              "#0d0887"
             ],
             [
              0.1111111111111111,
              "#46039f"
             ],
             [
              0.2222222222222222,
              "#7201a8"
             ],
             [
              0.3333333333333333,
              "#9c179e"
             ],
             [
              0.4444444444444444,
              "#bd3786"
             ],
             [
              0.5555555555555556,
              "#d8576b"
             ],
             [
              0.6666666666666666,
              "#ed7953"
             ],
             [
              0.7777777777777778,
              "#fb9f3a"
             ],
             [
              0.8888888888888888,
              "#fdca26"
             ],
             [
              1,
              "#f0f921"
             ]
            ],
            "type": "heatmapgl"
           }
          ],
          "histogram": [
           {
            "marker": {
             "colorbar": {
              "outlinewidth": 0,
              "ticks": ""
             }
            },
            "type": "histogram"
           }
          ],
          "histogram2d": [
           {
            "colorbar": {
             "outlinewidth": 0,
             "ticks": ""
            },
            "colorscale": [
             [
              0,
              "#0d0887"
             ],
             [
              0.1111111111111111,
              "#46039f"
             ],
             [
              0.2222222222222222,
              "#7201a8"
             ],
             [
              0.3333333333333333,
              "#9c179e"
             ],
             [
              0.4444444444444444,
              "#bd3786"
             ],
             [
              0.5555555555555556,
              "#d8576b"
             ],
             [
              0.6666666666666666,
              "#ed7953"
             ],
             [
              0.7777777777777778,
              "#fb9f3a"
             ],
             [
              0.8888888888888888,
              "#fdca26"
             ],
             [
              1,
              "#f0f921"
             ]
            ],
            "type": "histogram2d"
           }
          ],
          "histogram2dcontour": [
           {
            "colorbar": {
             "outlinewidth": 0,
             "ticks": ""
            },
            "colorscale": [
             [
              0,
              "#0d0887"
             ],
             [
              0.1111111111111111,
              "#46039f"
             ],
             [
              0.2222222222222222,
              "#7201a8"
             ],
             [
              0.3333333333333333,
              "#9c179e"
             ],
             [
              0.4444444444444444,
              "#bd3786"
             ],
             [
              0.5555555555555556,
              "#d8576b"
             ],
             [
              0.6666666666666666,
              "#ed7953"
             ],
             [
              0.7777777777777778,
              "#fb9f3a"
             ],
             [
              0.8888888888888888,
              "#fdca26"
             ],
             [
              1,
              "#f0f921"
             ]
            ],
            "type": "histogram2dcontour"
           }
          ],
          "mesh3d": [
           {
            "colorbar": {
             "outlinewidth": 0,
             "ticks": ""
            },
            "type": "mesh3d"
           }
          ],
          "parcoords": [
           {
            "line": {
             "colorbar": {
              "outlinewidth": 0,
              "ticks": ""
             }
            },
            "type": "parcoords"
           }
          ],
          "pie": [
           {
            "automargin": true,
            "type": "pie"
           }
          ],
          "scatter": [
           {
            "marker": {
             "colorbar": {
              "outlinewidth": 0,
              "ticks": ""
             }
            },
            "type": "scatter"
           }
          ],
          "scatter3d": [
           {
            "line": {
             "colorbar": {
              "outlinewidth": 0,
              "ticks": ""
             }
            },
            "marker": {
             "colorbar": {
              "outlinewidth": 0,
              "ticks": ""
             }
            },
            "type": "scatter3d"
           }
          ],
          "scattercarpet": [
           {
            "marker": {
             "colorbar": {
              "outlinewidth": 0,
              "ticks": ""
             }
            },
            "type": "scattercarpet"
           }
          ],
          "scattergeo": [
           {
            "marker": {
             "colorbar": {
              "outlinewidth": 0,
              "ticks": ""
             }
            },
            "type": "scattergeo"
           }
          ],
          "scattergl": [
           {
            "marker": {
             "colorbar": {
              "outlinewidth": 0,
              "ticks": ""
             }
            },
            "type": "scattergl"
           }
          ],
          "scattermapbox": [
           {
            "marker": {
             "colorbar": {
              "outlinewidth": 0,
              "ticks": ""
             }
            },
            "type": "scattermapbox"
           }
          ],
          "scatterpolar": [
           {
            "marker": {
             "colorbar": {
              "outlinewidth": 0,
              "ticks": ""
             }
            },
            "type": "scatterpolar"
           }
          ],
          "scatterpolargl": [
           {
            "marker": {
             "colorbar": {
              "outlinewidth": 0,
              "ticks": ""
             }
            },
            "type": "scatterpolargl"
           }
          ],
          "scatterternary": [
           {
            "marker": {
             "colorbar": {
              "outlinewidth": 0,
              "ticks": ""
             }
            },
            "type": "scatterternary"
           }
          ],
          "surface": [
           {
            "colorbar": {
             "outlinewidth": 0,
             "ticks": ""
            },
            "colorscale": [
             [
              0,
              "#0d0887"
             ],
             [
              0.1111111111111111,
              "#46039f"
             ],
             [
              0.2222222222222222,
              "#7201a8"
             ],
             [
              0.3333333333333333,
              "#9c179e"
             ],
             [
              0.4444444444444444,
              "#bd3786"
             ],
             [
              0.5555555555555556,
              "#d8576b"
             ],
             [
              0.6666666666666666,
              "#ed7953"
             ],
             [
              0.7777777777777778,
              "#fb9f3a"
             ],
             [
              0.8888888888888888,
              "#fdca26"
             ],
             [
              1,
              "#f0f921"
             ]
            ],
            "type": "surface"
           }
          ],
          "table": [
           {
            "cells": {
             "fill": {
              "color": "#EBF0F8"
             },
             "line": {
              "color": "white"
             }
            },
            "header": {
             "fill": {
              "color": "#C8D4E3"
             },
             "line": {
              "color": "white"
             }
            },
            "type": "table"
           }
          ]
         },
         "layout": {
          "annotationdefaults": {
           "arrowcolor": "#2a3f5f",
           "arrowhead": 0,
           "arrowwidth": 1
          },
          "coloraxis": {
           "colorbar": {
            "outlinewidth": 0,
            "ticks": ""
           }
          },
          "colorscale": {
           "diverging": [
            [
             0,
             "#8e0152"
            ],
            [
             0.1,
             "#c51b7d"
            ],
            [
             0.2,
             "#de77ae"
            ],
            [
             0.3,
             "#f1b6da"
            ],
            [
             0.4,
             "#fde0ef"
            ],
            [
             0.5,
             "#f7f7f7"
            ],
            [
             0.6,
             "#e6f5d0"
            ],
            [
             0.7,
             "#b8e186"
            ],
            [
             0.8,
             "#7fbc41"
            ],
            [
             0.9,
             "#4d9221"
            ],
            [
             1,
             "#276419"
            ]
           ],
           "sequential": [
            [
             0,
             "#0d0887"
            ],
            [
             0.1111111111111111,
             "#46039f"
            ],
            [
             0.2222222222222222,
             "#7201a8"
            ],
            [
             0.3333333333333333,
             "#9c179e"
            ],
            [
             0.4444444444444444,
             "#bd3786"
            ],
            [
             0.5555555555555556,
             "#d8576b"
            ],
            [
             0.6666666666666666,
             "#ed7953"
            ],
            [
             0.7777777777777778,
             "#fb9f3a"
            ],
            [
             0.8888888888888888,
             "#fdca26"
            ],
            [
             1,
             "#f0f921"
            ]
           ],
           "sequentialminus": [
            [
             0,
             "#0d0887"
            ],
            [
             0.1111111111111111,
             "#46039f"
            ],
            [
             0.2222222222222222,
             "#7201a8"
            ],
            [
             0.3333333333333333,
             "#9c179e"
            ],
            [
             0.4444444444444444,
             "#bd3786"
            ],
            [
             0.5555555555555556,
             "#d8576b"
            ],
            [
             0.6666666666666666,
             "#ed7953"
            ],
            [
             0.7777777777777778,
             "#fb9f3a"
            ],
            [
             0.8888888888888888,
             "#fdca26"
            ],
            [
             1,
             "#f0f921"
            ]
           ]
          },
          "colorway": [
           "#636efa",
           "#EF553B",
           "#00cc96",
           "#ab63fa",
           "#FFA15A",
           "#19d3f3",
           "#FF6692",
           "#B6E880",
           "#FF97FF",
           "#FECB52"
          ],
          "font": {
           "color": "#2a3f5f"
          },
          "geo": {
           "bgcolor": "white",
           "lakecolor": "white",
           "landcolor": "#E5ECF6",
           "showlakes": true,
           "showland": true,
           "subunitcolor": "white"
          },
          "hoverlabel": {
           "align": "left"
          },
          "hovermode": "closest",
          "mapbox": {
           "style": "light"
          },
          "paper_bgcolor": "white",
          "plot_bgcolor": "#E5ECF6",
          "polar": {
           "angularaxis": {
            "gridcolor": "white",
            "linecolor": "white",
            "ticks": ""
           },
           "bgcolor": "#E5ECF6",
           "radialaxis": {
            "gridcolor": "white",
            "linecolor": "white",
            "ticks": ""
           }
          },
          "scene": {
           "xaxis": {
            "backgroundcolor": "#E5ECF6",
            "gridcolor": "white",
            "gridwidth": 2,
            "linecolor": "white",
            "showbackground": true,
            "ticks": "",
            "zerolinecolor": "white"
           },
           "yaxis": {
            "backgroundcolor": "#E5ECF6",
            "gridcolor": "white",
            "gridwidth": 2,
            "linecolor": "white",
            "showbackground": true,
            "ticks": "",
            "zerolinecolor": "white"
           },
           "zaxis": {
            "backgroundcolor": "#E5ECF6",
            "gridcolor": "white",
            "gridwidth": 2,
            "linecolor": "white",
            "showbackground": true,
            "ticks": "",
            "zerolinecolor": "white"
           }
          },
          "shapedefaults": {
           "line": {
            "color": "#2a3f5f"
           }
          },
          "ternary": {
           "aaxis": {
            "gridcolor": "white",
            "linecolor": "white",
            "ticks": ""
           },
           "baxis": {
            "gridcolor": "white",
            "linecolor": "white",
            "ticks": ""
           },
           "bgcolor": "#E5ECF6",
           "caxis": {
            "gridcolor": "white",
            "linecolor": "white",
            "ticks": ""
           }
          },
          "title": {
           "x": 0.05
          },
          "xaxis": {
           "automargin": true,
           "gridcolor": "white",
           "linecolor": "white",
           "ticks": "",
           "title": {
            "standoff": 15
           },
           "zerolinecolor": "white",
           "zerolinewidth": 2
          },
          "yaxis": {
           "automargin": true,
           "gridcolor": "white",
           "linecolor": "white",
           "ticks": "",
           "title": {
            "standoff": 15
           },
           "zerolinecolor": "white",
           "zerolinewidth": 2
          }
         }
        }
       }
      }
     },
     "metadata": {}
    }
   ],
   "source": [
    "colors = n_colors('rgb(255, 255, 255)', 'rgb(0, 0, 0)', delta, colortype='rgb')\n",
    "reversed_colors = n_colors('rgb(100, 64, 8)', 'rgb(255, 163, 26)', delta, colortype='rgb')\n",
    "iterations = [i for i in range(1, 21)]\n",
    "\n",
    "# average_colors_font = ['rgb(255, 255, 255)' for i in range(0, 6)]\n",
    "# average_colors_font.append('rgb(0, 0, 0)')\n",
    "\n",
    "iterations.append('Avg')\n",
    "fig = go.Figure(data=[go.Table(\n",
    "  header=dict(\n",
    "    values=['<b>Iteração</b>', '<b>Soma</b>', '<b>Produto</b>', '<b>Borda Count</b>'],\n",
    "    line_color='black', fill_color='white',\n",
    "    align='center',\n",
    "    font=dict(color='black', size=12, family='comfortaa')\n",
    "  ),\n",
    "  cells=dict(\n",
    "    values=[\n",
    "        iterations, \n",
    "        np.round(accuracies['SMCSoma'], 4), \n",
    "        np.round(accuracies['SMCProduto'], 4),\n",
    "        np.round(accuracies['SMCBC'], 4),\n",
    "        ],\n",
    "    line_color='black',\n",
    "    fill_color=[\n",
    "        'black',\n",
    "        np.array(colors)[(((np.array(accuracies['SMCSoma'])-min_acc)*1000)).astype(int)],\n",
    "        np.array(colors)[(((np.array(accuracies['SMCProduto'])-min_acc)*1000)).astype(int)], \n",
    "        np.array(colors)[(((np.array(accuracies['SMCBC'])-min_acc)*1000)).astype(int)], \n",
    "        ],\n",
    "    align='center',\n",
    "    font=dict(\n",
    "        color=[\n",
    "            'white',\n",
    "            np.array(reversed_colors)[(((np.array(accuracies['SMCSoma'])-min_acc)*1000)).astype(int)],\n",
    "            np.array(reversed_colors)[(((np.array(accuracies['SMCProduto'])-min_acc)*1000)).astype(int)], \n",
    "            np.array(reversed_colors)[(((np.array(accuracies['SMCBC'])-min_acc)*1000)).astype(int)], \n",
    "            ], \n",
    "        size=12, \n",
    "        family=\"Comfortaa\",\n",
    "        )\n",
    "    ))\n",
    "])\n",
    "\n",
    "fig.show()"
   ]
  },
  {
   "source": [
    "<img src=\"./images/table2.gif\"></img>"
   ],
   "cell_type": "markdown",
   "metadata": {}
  },
  {
   "source": [
    "---\n",
    "## Análise estatística\n",
    "\n",
    "Primeiramente, é realizado o Teste de `Kruskal` entre os classificadores individuais para verificar se há diferença significativa no desempenho de todos eles."
   ],
   "cell_type": "markdown",
   "metadata": {}
  },
  {
   "cell_type": "code",
   "execution_count": 29,
   "metadata": {},
   "outputs": [],
   "source": [
    "_, KruskalW_p = kruskal(accuracies['KNN'], accuracies['DTC'], accuracies['NBC'], accuracies['SVM'], accuracies['MLP'])"
   ]
  },
  {
   "cell_type": "code",
   "execution_count": 30,
   "metadata": {},
   "outputs": [
    {
     "output_type": "stream",
     "name": "stdout",
     "text": [
      "Teste de Kruskal-Wallis entre classificadores individuais.\n----------------------------------------------------------\nHá diferença significativa entre o desempenho dos classificadores. 😣\n"
     ]
    }
   ],
   "source": [
    "print(\"Teste de Kruskal-Wallis entre classificadores individuais.\\n----------------------------------------------------------\")\n",
    "if KruskalW_p > 0.05:\n",
    "\tprint('Não há diferença significativa entre o desempenho dos classificadores. 😀')\n",
    "else:\n",
    "\tprint('Há diferença significativa entre o desempenho dos classificadores. 😣')"
   ]
  },
  {
   "source": [
    "Em seguida, é realizado o Teste de `Kruskal` entre os classificadores múltiplos para verificar se há diferença significativa no desempenho de todos eles."
   ],
   "cell_type": "markdown",
   "metadata": {}
  },
  {
   "cell_type": "code",
   "execution_count": 31,
   "metadata": {},
   "outputs": [],
   "source": [
    "_, KruskalW_p = kruskal(accuracies['SMCSoma'], accuracies['SMCProduto'], accuracies['SMCBC'])"
   ]
  },
  {
   "cell_type": "code",
   "execution_count": 32,
   "metadata": {},
   "outputs": [
    {
     "output_type": "stream",
     "name": "stdout",
     "text": [
      "Teste de Kruskal-Wallis entre classificadores múltiplos.\n--------------------------------------------------------\nNão há diferença significativa entre o desempenho dos classificadores. 😀\n"
     ]
    }
   ],
   "source": [
    "print(\"Teste de Kruskal-Wallis entre classificadores múltiplos.\\n--------------------------------------------------------\")\n",
    "if KruskalW_p > 0.05:\n",
    "\tprint('Não há diferença significativa entre o desempenho dos classificadores. 😀')\n",
    "else:\n",
    "\tprint('Há diferença significativa entre o desempenho dos classificadores. 😣')"
   ]
  },
  {
   "source": [
    "Então, é realizado o Teste de Mann-Whitney entre todos os possíveis pares de classificadores individuais, verificando se há diferença significativa entre eles."
   ],
   "cell_type": "markdown",
   "metadata": {}
  },
  {
   "cell_type": "code",
   "execution_count": 33,
   "metadata": {},
   "outputs": [
    {
     "output_type": "stream",
     "name": "stdout",
     "text": [
      "\nTeste de Mann-Whitney entre KNN e DTC. 😋\nHá diferença significativa entre o desempenho dos classificadores. 😣\n\nTeste de Mann-Whitney entre KNN e NBC. 😋\nHá diferença significativa entre o desempenho dos classificadores. 😣\n\nTeste de Mann-Whitney entre KNN e SVM. 😋\nHá diferença significativa entre o desempenho dos classificadores. 😣\n\nTeste de Mann-Whitney entre KNN e MLP. 😋\nHá diferença significativa entre o desempenho dos classificadores. 😣\n\nTeste de Mann-Whitney entre DTC e NBC. 😋\nHá diferença significativa entre o desempenho dos classificadores. 😣\n\nTeste de Mann-Whitney entre DTC e SVM. 😋\nNão há diferença significativa entre o desempenho dos classificadores. 😀\n\nTeste de Mann-Whitney entre DTC e MLP. 😋\nHá diferença significativa entre o desempenho dos classificadores. 😣\n\nTeste de Mann-Whitney entre NBC e SVM. 😋\nHá diferença significativa entre o desempenho dos classificadores. 😣\n\nTeste de Mann-Whitney entre NBC e MLP. 😋\nHá diferença significativa entre o desempenho dos classificadores. 😣\n\nTeste de Mann-Whitney entre SVM e MLP. 😋\nHá diferença significativa entre o desempenho dos classificadores. 😣\n"
     ]
    }
   ],
   "source": [
    "individuais = {\n",
    "    0: [accuracies['KNN'], \"KNN\"], \n",
    "    1: [accuracies['DTC'], \"DTC\"], \n",
    "    2: [accuracies['NBC'], \"NBC\"],\n",
    "    3: [accuracies['SVM'], \"SVM\"], \n",
    "    4: [accuracies['MLP'], \"MLP\"]\n",
    "    }\n",
    "for i in range(len(individuais)):\n",
    "    for j in range(i+1, len(individuais)):\n",
    "        print()\n",
    "        _, mannwhitney_p = mannwhitneyu(individuais[i][0], individuais[j][0])\n",
    "        print(f\"Teste de Mann-Whitney entre {individuais[i][1]} e {individuais[j][1]}. 😋\")\n",
    "        if mannwhitney_p > 0.05:\n",
    "            print('Não há diferença significativa entre o desempenho dos classificadores. 😀')\n",
    "        else:\n",
    "            print('Há diferença significativa entre o desempenho dos classificadores. 😣')"
   ]
  },
  {
   "source": [
    "Logo após, o mesmo procedimento é realizado para os classificadores múltiplos."
   ],
   "cell_type": "markdown",
   "metadata": {}
  },
  {
   "cell_type": "code",
   "execution_count": 34,
   "metadata": {},
   "outputs": [
    {
     "output_type": "stream",
     "name": "stdout",
     "text": [
      "\nTeste de Mann-Whitney entre SMCSoma e SMCProduto. 😋\nNão há diferença significativa entre o desempenho dos classificadores. 😀\n\nTeste de Mann-Whitney entre SMCSoma e SMCBC. 😋\nNão há diferença significativa entre o desempenho dos classificadores. 😀\n\nTeste de Mann-Whitney entre SMCProduto e SMCBC. 😋\nNão há diferença significativa entre o desempenho dos classificadores. 😀\n"
     ]
    }
   ],
   "source": [
    "multiplos = {\n",
    "    0: [accuracies['SMCSoma'], \"SMCSoma\"], \n",
    "    1: [accuracies['SMCProduto'], \"SMCProduto\"], \n",
    "    2: [accuracies['SMCBC'], \"SMCBC\"],\n",
    "    }\n",
    "    \n",
    "for i in range(len(multiplos)):\n",
    "    for j in range(i+1, len(multiplos)):\n",
    "        print()\n",
    "        _, mannwhitney_p = mannwhitneyu(multiplos[i][0], multiplos[j][0])\n",
    "        print(f\"Teste de Mann-Whitney entre {multiplos[i][1]} e {multiplos[j][1]}. 😋\")\n",
    "        if mannwhitney_p > 0.05:\n",
    "            print('Não há diferença significativa entre o desempenho dos classificadores. 😀')\n",
    "        else:\n",
    "            print('Há diferença significativa entre o desempenho dos classificadores. 😣')"
   ]
  },
  {
   "source": [
    "Por fim, realiza-se o Teste de Mann-Whitney entre o melhor classificador individual e o melhor classificador múltiplo."
   ],
   "cell_type": "markdown",
   "metadata": {}
  },
  {
   "cell_type": "code",
   "execution_count": 1,
   "metadata": {},
   "outputs": [
    {
     "output_type": "stream",
     "name": "stdout",
     "text": [
      "\nTeste de Mann-Whitney entre SVM e SMCSoma. 😋\nNão há diferença significativa entre o desempenho dos classificadores. 😀\n\nComo não há diferença significativa entre o melhor classificador individual e o melhor classificador múltiplo, para o nosso dataset não fará diferença se usarmos o SVM ou o SMCSoma. Tendo isso em mente provavelmente será ainda sim mais proveitoso utilizar o SVM já que o SMCSoma depende de notas de outros classificadores"
     ]
    }
   ],
   "source": [
    "averages_individual = {\n",
    "  'KNN': accuracies['KNN'][20],\n",
    "  'DTC': accuracies['DTC'][20],\n",
    "  'NBC': accuracies['NBC'][20],\n",
    "  'SVM': accuracies['SVM'][20],\n",
    "  'MLP': accuracies['MLP'][20]\n",
    "}\n",
    "\n",
    "averages_multiplo = {\n",
    "  'SMCSoma': accuracies['SMCSoma'][20],\n",
    "  'SMCProduto': accuracies['SMCProduto'][20],\n",
    "  'SMCBC': accuracies['SMCBC'][20]\n",
    "}\n",
    "\n",
    "best_individual = max(averages_individual.items(), key=operator.itemgetter(1))[0]\n",
    "best_multiplo = max(averages_multiplo.items(), key=operator.itemgetter(1))[0]\n",
    "\n",
    "_, mannwhitney_p = mannwhitneyu(accuracies[best_individual], accuracies[best_multiplo])\n",
    "print(f\"Teste de Mann-Whitney entre {best_individual} e {best_multiplo}. 😋\")\n",
    "if mannwhitney_p > 0.05:\n",
    "  print(f'Não há diferença significativa entre o desempenho dos classificadores. 😀\\nComo não há diferença significativa entre o melhor classificador individual e o melhor classificador múltiplo, para o nosso dataset não fará diferença se usarmos o {best_individual} ou o {best_multiplo}. Tendo isso em mente provavelmente será ainda sim mais proveitoso utilizar o {best_individual} já que o {best_multiplo} depende de notas de outros classificadores')\n",
    "else:\n",
    "  if max(averages_individual.items()) > max(averages_multiplo.items()):\n",
    "    print(f\"{best_individual} é melhor do que o {best_multiplo}\")\n",
    "  else:\n",
    "    print(f\"{best_multiplo} é melhor do que o {best_individual}\") "
   ]
  }
 ],
 "metadata": {
  "kernelspec": {
   "name": "Python 3.8.6 64-bit",
   "display_name": "Python 3.8.6 64-bit",
   "metadata": {
    "interpreter": {
     "hash": "a1bf8a58e309a98fd4c1afd359097b5c1354faf07a92acb9ef2fd44aac5a84d1"
    }
   }
  },
  "language_info": {
   "codemirror_mode": {
    "name": "ipython",
    "version": 3
   },
   "file_extension": ".py",
   "mimetype": "text/x-python",
   "name": "python",
   "nbconvert_exporter": "python",
   "pygments_lexer": "ipython3",
   "version": "3.8.6-final"
  }
 },
 "nbformat": 4,
 "nbformat_minor": 4
}