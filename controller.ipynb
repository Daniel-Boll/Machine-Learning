{
 "metadata": {
  "language_info": {
   "codemirror_mode": {
    "name": "ipython",
    "version": 3
   },
   "file_extension": ".py",
   "mimetype": "text/x-python",
   "name": "python",
   "nbconvert_exporter": "python",
   "pygments_lexer": "ipython3",
   "version": "3.8.6-final"
  },
  "orig_nbformat": 2,
  "kernelspec": {
   "name": "python3",
   "display_name": "Python 3.8.6 64-bit",
   "metadata": {
    "interpreter": {
     "hash": "a1bf8a58e309a98fd4c1afd359097b5c1354faf07a92acb9ef2fd44aac5a84d1"
    }
   }
  }
 },
 "nbformat": 4,
 "nbformat_minor": 2,
 "cells": [
  {
   "source": [
    "<h1 align=\"center\">Trabalho 3 - Aprendizagem de Máquina</h1>\n",
    "\n",
    "## Andre Brun\n",
    "### Daniel Boll & Mateus Karvat\n",
    "---"
   ],
   "cell_type": "markdown",
   "metadata": {}
  },
  {
   "cell_type": "code",
   "execution_count": null,
   "metadata": {},
   "outputs": [],
   "source": [
    "import pandas as pd\n",
    "import numpy as np\n",
    "import matplotlib.pyplot as plt\n",
    "from matplotlib import style\n",
    "import seaborn as sns; sns.set()\n",
    "\n",
    "import time\n",
    "\n",
    "# Analitics\n",
    "from sklearn.model_selection import train_test_split, GridSearchCV\n",
    "from sklearn.metrics import mean_absolute_error, mean_squared_error\n",
    "from scipy.stats import pearsonr \n",
    "\n",
    "# Linear Models\n",
    "from sklearn.linear_model import LinearRegression\n",
    "from sklearn.linear_model import LogisticRegression\n",
    "\n",
    "# Classifiers\n",
    "from sklearn.svm import SVR\n",
    "\n",
    "# Regressors\n",
    "from sklearn.ensemble import RandomForestRegressor\n",
    "from sklearn.neural_network import MLPRegressor\n",
    "\n",
    "# Configurations\n",
    "style.use('ggplot')\n",
    "%matplotlib qt\n",
    "np.set_printoptions(precision=3, suppress=True)\n",
    "pd.set_option(\"display.precision\", 3)"
   ]
  },
  {
   "cell_type": "code",
   "execution_count": null,
   "metadata": {},
   "outputs": [],
   "source": [
    "data = pd.read_csv('./winequality-red.csv')\n",
    "\n",
    "# Manteremos uma cópia dos dados originais\n",
    "# para garantia\n",
    "raw_data = data.copy()"
   ]
  },
  {
   "cell_type": "code",
   "execution_count": null,
   "metadata": {},
   "outputs": [],
   "source": [
    "data.head()"
   ]
  },
  {
   "cell_type": "code",
   "execution_count": null,
   "metadata": {},
   "outputs": [],
   "source": [
    "data['quality'].value_counts()"
   ]
  },
  {
   "cell_type": "code",
   "execution_count": null,
   "metadata": {},
   "outputs": [],
   "source": [
    "X = data.values[:, :-1]\n",
    "y = data.values[:, -1]\n",
    "attributes_size = np.shape(X)[1]"
   ]
  },
  {
   "cell_type": "code",
   "execution_count": null,
   "metadata": {},
   "outputs": [],
   "source": [
    "x_train, x_test, y_train, y_test = train_test_split(X, y, test_size=0.3, stratify=y)"
   ]
  },
  {
   "cell_type": "code",
   "execution_count": null,
   "metadata": {},
   "outputs": [],
   "source": [
    "each_r = np.zeros((attributes_size, 1))\n",
    "n = np.shape(X)[0]\n",
    "k = np.shape(X)[1]\n",
    "constant = ((n - 1) / (n - k - 1))\n",
    "for i in range(np.shape(X)[1]):\n",
    "    rsquared = pearsonr(X[:, i], y)[0] ** 2\n",
    "    each_r[i] = (1 - (1 - rsquared) * constant)"
   ]
  },
  {
   "cell_type": "code",
   "execution_count": 63,
   "metadata": {},
   "outputs": [
    {
     "output_type": "execute_result",
     "data": {
      "text/plain": [
       "array([[ 0.009],\n",
       "       [ 0.147],\n",
       "       [ 0.045],\n",
       "       [-0.007],\n",
       "       [ 0.01 ],\n",
       "       [-0.004],\n",
       "       [ 0.028],\n",
       "       [ 0.024],\n",
       "       [-0.004],\n",
       "       [ 0.057],\n",
       "       [ 0.221]])"
      ]
     },
     "metadata": {},
     "execution_count": 63
    }
   ],
   "source": [
    "each_r"
   ]
  },
  {
   "cell_type": "code",
   "execution_count": null,
   "metadata": {},
   "outputs": [],
   "source": [
    "plt.figure(figsize=(18, 15))\n",
    "plt.subplots_adjust(hspace=0.40, wspace=0.3)\n",
    "\n",
    "for i in range(attributes_size):\n",
    "    coluna = X[:, i]\n",
    "\n",
    "    current_figure = plt.subplot(3, 4, i+1)\n",
    "    plt.plot(y, coluna, 'b.') \n",
    "    current_figure.set_title(f\"{data.columns[i].title()}\\n R² ajustado = {np.round(each_r[i][0], 3)}\")\n",
    "\n",
    "plt.suptitle(\"Correlação de cada atributo com a qualidade\", size=30)\n",
    "plt.show()"
   ]
  },
  {
   "source": [
    "*TODO*: Análise coeficiente"
   ],
   "cell_type": "markdown",
   "metadata": {}
  },
  {
   "cell_type": "code",
   "execution_count": null,
   "metadata": {},
   "outputs": [],
   "source": [
    "attributes = ['fixed acidity', 'volatile acidity', 'citric acid', 'residual sugar', 'chlorides', 'free sulfur dioxide','total sulfur dioxide', 'density', 'pH', 'sulphates','alcohol', 'quality']\n",
    "\n",
    "correlations = data[attributes].corr()\n",
    "\n",
    "mask = np.zeros_like(data[attributes].corr(), dtype=np.bool) \n",
    "mask[np.triu_indices_from(mask)] = True \n",
    "\n",
    "f, ax = plt.subplots(figsize=(12, 9))\n",
    "plt.title(\"Correlação entre atributos\", fontsize=25)\n",
    "\n",
    "sns.heatmap(correlations, linewidths=.25, vmax=.7, square=True, cmap=\"YlGn\", linecolor=\"w\", annot=True, annot_kws={\"size\": 13}, mask=mask, cbar_kws={\"shrink\": .9})\n",
    "\n",
    "plt.tight_layout()"
   ]
  },
  {
   "source": [
    "*TODO*: Análise de correlação entre atributos"
   ],
   "cell_type": "markdown",
   "metadata": {}
  },
  {
   "source": [
    "----\n",
    "Classificadores: \n",
    "- MultLinReg\n",
    "- SVM (SRV)\n",
    "- MLP\n",
    "- Random Forest"
   ],
   "cell_type": "markdown",
   "metadata": {}
  },
  {
   "source": [
    "---\n",
    "### Multiple Linear Regression"
   ],
   "cell_type": "markdown",
   "metadata": {}
  },
  {
   "cell_type": "code",
   "execution_count": 72,
   "metadata": {},
   "outputs": [],
   "source": [
    "mlr = LinearRegression().fit(x_train, y_train)\n",
    "y_pred = mlr.predict(x_test)\n",
    "\n",
    "mlr_msq = np.sqrt(mean_squared_error(y_test, y_pred))\n",
    "mlr_sse = np.sum((y_test - y_pred)**2)"
   ]
  },
  {
   "cell_type": "code",
   "execution_count": 75,
   "metadata": {},
   "outputs": [
    {
     "output_type": "stream",
     "name": "stdout",
     "text": [
      "          MLR\n=======================\nRoot Mean Squared Error\n-----------------------\n   0.6429444274500508\n=======================\n***********************\n=======================\nSum of Squared Errors\n-----------------------\n   198.4212176587553\n=======================\n"
     ]
    }
   ],
   "source": [
    "print(\" \"*10+\"MLR\")\n",
    "print(\"=\"*23)\n",
    "print(\"Root Mean Squared Error\")\n",
    "print(\"-\"*23)\n",
    "print(f\"   {mlr_msq}\")\n",
    "print(\"=\"*23)\n",
    "print(\"*\"*23)\n",
    "print(\"=\"*23)\n",
    "print(\"Sum of Squared Errors\")\n",
    "print(\"-\"*23)\n",
    "print(f\"   {mlr_sse}\")\n",
    "print(\"=\"*23)"
   ]
  },
  {
   "source": [
    "---\n",
    "## SVM (Support Vector Machine) \n",
    "### SVR"
   ],
   "cell_type": "markdown",
   "metadata": {}
  },
  {
   "cell_type": "code",
   "execution_count": 73,
   "metadata": {},
   "outputs": [],
   "source": [
    "svr = SVR(kernel=\"linear\").fit(x_train, y_train)\n",
    "y_pred = svr.predict(x_test)\n",
    "svr_msq = np.sqrt(mean_squared_error(y_test, y_pred))\n",
    "svr_sse = np.sum((y_test - y_pred)**2)"
   ]
  },
  {
   "cell_type": "code",
   "execution_count": 76,
   "metadata": {},
   "outputs": [
    {
     "output_type": "stream",
     "name": "stdout",
     "text": [
      "          SVR\n=======================\nRoot Mean Squared Error\n-----------------------\n   0.6406950494931516\n=======================\n***********************\n=======================\nSum of Squared Errors\n-----------------------\n   197.03527029361533\n=======================\n"
     ]
    }
   ],
   "source": [
    "print(\" \"*10+\"SVR\")\n",
    "print(\"=\"*23)\n",
    "print(\"Root Mean Squared Error\")\n",
    "print(\"-\"*23)\n",
    "print(f\"   {svr_msq}\")\n",
    "print(\"=\"*23)\n",
    "print(\"*\"*23)\n",
    "print(\"=\"*23)\n",
    "print(\"Sum of Squared Errors\")\n",
    "print(\"-\"*23)\n",
    "print(f\"   {svr_sse}\")\n",
    "print(\"=\"*23)"
   ]
  },
  {
   "source": [
    "---\n",
    "## MLP (Multi Layer Perceptron)\n"
   ],
   "cell_type": "markdown",
   "metadata": {}
  },
  {
   "cell_type": "code",
   "execution_count": 74,
   "metadata": {
    "tags": []
   },
   "outputs": [],
   "source": [
    "mlp = MLPRegressor(\n",
    "    hidden_layer_sizes = (256, 168, 64, 32),\n",
    "    solver=\"lbfgs\",\n",
    "    activation=\"tanh\",\n",
    "    max_iter=1500,\n",
    "    alpha=0,\n",
    "    ).fit(x_train, y_train)\n",
    "y_pred = mlp.predict(x_test)\n",
    "\n",
    "mlp_msq = np.sqrt(mean_squared_error(y_test, y_pred))\n",
    "mlp_sse = np.sum((y_test - y_pred)**2)"
   ]
  },
  {
   "cell_type": "code",
   "execution_count": 77,
   "metadata": {},
   "outputs": [
    {
     "output_type": "stream",
     "name": "stdout",
     "text": [
      "          MLP\n=======================\nRoot Mean Squared Error\n-----------------------\n   0.6859204040910275\n=======================\n***********************\n=======================\nSum of Squared Errors\n-----------------------\n   225.83366435923125\n=======================\n"
     ]
    }
   ],
   "source": [
    "print(\" \"*10+\"MLP\")\n",
    "print(\"=\"*23)\n",
    "print(\"Root Mean Squared Error\")\n",
    "print(\"-\"*23)\n",
    "print(f\"   {mlp_msq}\")\n",
    "print(\"=\"*23)\n",
    "print(\"*\"*23)\n",
    "print(\"=\"*23)\n",
    "print(\"Sum of Squared Errors\")\n",
    "print(\"-\"*23)\n",
    "print(f\"   {mlp_sse}\")\n",
    "print(\"=\"*23)"
   ]
  },
  {
   "source": [
    "---\n",
    "## Random Forest Regressor"
   ],
   "cell_type": "markdown",
   "metadata": {}
  },
  {
   "cell_type": "code",
   "execution_count": 78,
   "metadata": {},
   "outputs": [],
   "source": [
    "rfr = RandomForestRegressor(n_estimators=300, n_jobs=-1).fit(x_train, y_train)\n",
    "y_pred = rfr.predict(x_test)\n",
    "\n",
    "rfr_msq = np.sqrt(mean_squared_error(y_test, y_pred))\n",
    "rfr_sse = np.sum((y_test - y_pred)**2)"
   ]
  },
  {
   "cell_type": "code",
   "execution_count": 79,
   "metadata": {},
   "outputs": [
    {
     "output_type": "stream",
     "name": "stdout",
     "text": [
      "          RFR\n=======================\nRoot Mean Squared Error\n-----------------------\n   0.5812441158603002\n=======================\n***********************\n=======================\nSum of Squared Errors\n-----------------------\n   162.16546666666665\n=======================\n"
     ]
    }
   ],
   "source": [
    "print(\" \"*10+\"RFR\")\n",
    "print(\"=\"*23)\n",
    "print(\"Root Mean Squared Error\")\n",
    "print(\"-\"*23)\n",
    "print(f\"   {rfr_msq}\")\n",
    "print(\"=\"*23)\n",
    "print(\"*\"*23)\n",
    "print(\"=\"*23)\n",
    "print(\"Sum of Squared Errors\")\n",
    "print(\"-\"*23)\n",
    "print(f\"   {rfr_sse}\")\n",
    "print(\"=\"*23)"
   ]
  },
  {
   "source": [
    "---"
   ],
   "cell_type": "markdown",
   "metadata": {}
  },
  {
   "cell_type": "code",
   "execution_count": 80,
   "metadata": {},
   "outputs": [
    {
     "output_type": "execute_result",
     "data": {
      "text/plain": [
       "<pandas.io.formats.style.Styler at 0x29378d60b50>"
      ],
      "text/html": "<style  type=\"text/css\" >\n#T_b9532d9d_4176_11eb_9d1f_e454e82919aerow0_col3,#T_b9532d9d_4176_11eb_9d1f_e454e82919aerow1_col3{\n            background-color:  forestgreen;\n        }</style><table id=\"T_b9532d9d_4176_11eb_9d1f_e454e82919ae\" ><thead>    <tr>        <th class=\"blank level0\" ></th>        <th class=\"col_heading level0 col0\" >MLR</th>        <th class=\"col_heading level0 col1\" >SVR</th>        <th class=\"col_heading level0 col2\" >MLP</th>        <th class=\"col_heading level0 col3\" >RFR</th>    </tr></thead><tbody>\n                <tr>\n                        <th id=\"T_b9532d9d_4176_11eb_9d1f_e454e82919aelevel0_row0\" class=\"row_heading level0 row0\" >MSQ</th>\n                        <td id=\"T_b9532d9d_4176_11eb_9d1f_e454e82919aerow0_col0\" class=\"data row0 col0\" >0.643</td>\n                        <td id=\"T_b9532d9d_4176_11eb_9d1f_e454e82919aerow0_col1\" class=\"data row0 col1\" >0.641</td>\n                        <td id=\"T_b9532d9d_4176_11eb_9d1f_e454e82919aerow0_col2\" class=\"data row0 col2\" >0.686</td>\n                        <td id=\"T_b9532d9d_4176_11eb_9d1f_e454e82919aerow0_col3\" class=\"data row0 col3\" >0.581</td>\n            </tr>\n            <tr>\n                        <th id=\"T_b9532d9d_4176_11eb_9d1f_e454e82919aelevel0_row1\" class=\"row_heading level0 row1\" >SSE</th>\n                        <td id=\"T_b9532d9d_4176_11eb_9d1f_e454e82919aerow1_col0\" class=\"data row1 col0\" >198.421</td>\n                        <td id=\"T_b9532d9d_4176_11eb_9d1f_e454e82919aerow1_col1\" class=\"data row1 col1\" >197.035</td>\n                        <td id=\"T_b9532d9d_4176_11eb_9d1f_e454e82919aerow1_col2\" class=\"data row1 col2\" >225.834</td>\n                        <td id=\"T_b9532d9d_4176_11eb_9d1f_e454e82919aerow1_col3\" class=\"data row1 col3\" >162.165</td>\n            </tr>\n    </tbody></table>"
     },
     "metadata": {},
     "execution_count": 80
    }
   ],
   "source": [
    "table = [\n",
    "    [mlr_msq, svr_msq, mlp_msq, rfr_msq],\n",
    "    [mlr_sse, svr_sse, mlp_sse, rfr_sse]\n",
    "]\n",
    "result = pd.DataFrame(table,\n",
    "    index=[\"MSQ\", \"SSE\"],\n",
    "    columns=[\"MLR\", \"SVR\", \"MLP\", \"RFR\"]\n",
    "    )\n",
    "result.style.highlight_min(color = \"forestgreen\", axis=1)"
   ]
  }
 ]
}