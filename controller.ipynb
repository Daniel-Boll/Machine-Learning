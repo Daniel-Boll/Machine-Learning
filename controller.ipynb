{
 "metadata": {
  "language_info": {
   "codemirror_mode": {
    "name": "ipython",
    "version": 3
   },
   "file_extension": ".py",
   "mimetype": "text/x-python",
   "name": "python",
   "nbconvert_exporter": "python",
   "pygments_lexer": "ipython3",
   "version": "3.8.3-final"
  },
  "orig_nbformat": 2,
  "kernelspec": {
   "name": "deeplearning",
   "display_name": "(Conda) DL",
   "language": "python"
  }
 },
 "nbformat": 4,
 "nbformat_minor": 2,
 "cells": [
  {
   "source": [
    "<h1 align=\"center\">Trabalho 3 - Aprendizagem de Máquina</h1>\n",
    "\n",
    "## Andre Brun\n",
    "### Daniel Boll & Mateus Karvat\n",
    "---"
   ],
   "cell_type": "markdown",
   "metadata": {}
  },
  {
   "cell_type": "code",
   "execution_count": 1,
   "metadata": {},
   "outputs": [],
   "source": [
    "import pandas as pd\n",
    "import numpy as np\n",
    "import matplotlib.pyplot as plt\n",
    "from matplotlib import style\n",
    "import seaborn as sns; sns.set()\n",
    "\n",
    "import time\n",
    "\n",
    "# Analitics\n",
    "from sklearn.model_selection import train_test_split, GridSearchCV\n",
    "from sklearn.metrics import mean_absolute_error, mean_squared_error\n",
    "from scipy.stats import pearsonr \n",
    "\n",
    "# Linear Models\n",
    "from sklearn.linear_model import LinearRegression\n",
    "from sklearn.linear_model import LogisticRegression\n",
    "\n",
    "# Classifiers\n",
    "from sklearn.svm import SVR\n",
    "\n",
    "# Regressors\n",
    "from sklearn.ensemble import RandomForestRegressor\n",
    "from sklearn.neural_network import MLPRegressor\n",
    "\n",
    "# Configurations\n",
    "style.use('ggplot')\n",
    "%matplotlib qt\n",
    "np.set_printoptions(precision=3, suppress=True)\n",
    "pd.set_option(\"display.precision\", 3)"
   ]
  },
  {
   "cell_type": "code",
   "execution_count": 2,
   "metadata": {},
   "outputs": [],
   "source": [
    "data = pd.read_csv('./winequality-red.csv')\n",
    "\n",
    "# Manteremos uma cópia dos dados originais\n",
    "# para garantia\n",
    "raw_data = data.copy()"
   ]
  },
  {
   "cell_type": "code",
   "execution_count": 3,
   "metadata": {},
   "outputs": [
    {
     "output_type": "execute_result",
     "data": {
      "text/plain": [
       "   fixed acidity  volatile acidity  citric acid  residual sugar  chlorides  \\\n",
       "0            7.4              0.70         0.00             1.9      0.076   \n",
       "1            7.8              0.88         0.00             2.6      0.098   \n",
       "2            7.8              0.76         0.04             2.3      0.092   \n",
       "3           11.2              0.28         0.56             1.9      0.075   \n",
       "4            7.4              0.70         0.00             1.9      0.076   \n",
       "\n",
       "   free sulfur dioxide  total sulfur dioxide  density    pH  sulphates  \\\n",
       "0                 11.0                  34.0    0.998  3.51       0.56   \n",
       "1                 25.0                  67.0    0.997  3.20       0.68   \n",
       "2                 15.0                  54.0    0.997  3.26       0.65   \n",
       "3                 17.0                  60.0    0.998  3.16       0.58   \n",
       "4                 11.0                  34.0    0.998  3.51       0.56   \n",
       "\n",
       "   alcohol  quality  \n",
       "0      9.4        5  \n",
       "1      9.8        5  \n",
       "2      9.8        5  \n",
       "3      9.8        6  \n",
       "4      9.4        5  "
      ],
      "text/html": "<div>\n<style scoped>\n    .dataframe tbody tr th:only-of-type {\n        vertical-align: middle;\n    }\n\n    .dataframe tbody tr th {\n        vertical-align: top;\n    }\n\n    .dataframe thead th {\n        text-align: right;\n    }\n</style>\n<table border=\"1\" class=\"dataframe\">\n  <thead>\n    <tr style=\"text-align: right;\">\n      <th></th>\n      <th>fixed acidity</th>\n      <th>volatile acidity</th>\n      <th>citric acid</th>\n      <th>residual sugar</th>\n      <th>chlorides</th>\n      <th>free sulfur dioxide</th>\n      <th>total sulfur dioxide</th>\n      <th>density</th>\n      <th>pH</th>\n      <th>sulphates</th>\n      <th>alcohol</th>\n      <th>quality</th>\n    </tr>\n  </thead>\n  <tbody>\n    <tr>\n      <th>0</th>\n      <td>7.4</td>\n      <td>0.70</td>\n      <td>0.00</td>\n      <td>1.9</td>\n      <td>0.076</td>\n      <td>11.0</td>\n      <td>34.0</td>\n      <td>0.998</td>\n      <td>3.51</td>\n      <td>0.56</td>\n      <td>9.4</td>\n      <td>5</td>\n    </tr>\n    <tr>\n      <th>1</th>\n      <td>7.8</td>\n      <td>0.88</td>\n      <td>0.00</td>\n      <td>2.6</td>\n      <td>0.098</td>\n      <td>25.0</td>\n      <td>67.0</td>\n      <td>0.997</td>\n      <td>3.20</td>\n      <td>0.68</td>\n      <td>9.8</td>\n      <td>5</td>\n    </tr>\n    <tr>\n      <th>2</th>\n      <td>7.8</td>\n      <td>0.76</td>\n      <td>0.04</td>\n      <td>2.3</td>\n      <td>0.092</td>\n      <td>15.0</td>\n      <td>54.0</td>\n      <td>0.997</td>\n      <td>3.26</td>\n      <td>0.65</td>\n      <td>9.8</td>\n      <td>5</td>\n    </tr>\n    <tr>\n      <th>3</th>\n      <td>11.2</td>\n      <td>0.28</td>\n      <td>0.56</td>\n      <td>1.9</td>\n      <td>0.075</td>\n      <td>17.0</td>\n      <td>60.0</td>\n      <td>0.998</td>\n      <td>3.16</td>\n      <td>0.58</td>\n      <td>9.8</td>\n      <td>6</td>\n    </tr>\n    <tr>\n      <th>4</th>\n      <td>7.4</td>\n      <td>0.70</td>\n      <td>0.00</td>\n      <td>1.9</td>\n      <td>0.076</td>\n      <td>11.0</td>\n      <td>34.0</td>\n      <td>0.998</td>\n      <td>3.51</td>\n      <td>0.56</td>\n      <td>9.4</td>\n      <td>5</td>\n    </tr>\n  </tbody>\n</table>\n</div>"
     },
     "metadata": {},
     "execution_count": 3
    }
   ],
   "source": [
    "data.head()"
   ]
  },
  {
   "cell_type": "code",
   "execution_count": 4,
   "metadata": {},
   "outputs": [
    {
     "output_type": "execute_result",
     "data": {
      "text/plain": [
       "5    681\n",
       "6    638\n",
       "7    199\n",
       "4     53\n",
       "8     18\n",
       "3     10\n",
       "Name: quality, dtype: int64"
      ]
     },
     "metadata": {},
     "execution_count": 4
    }
   ],
   "source": [
    "data['quality'].value_counts()"
   ]
  },
  {
   "cell_type": "code",
   "execution_count": 5,
   "metadata": {},
   "outputs": [],
   "source": [
    "X = data.values[:, :-1]\n",
    "y = data.values[:, -1]\n",
    "attributes_size = np.shape(X)[1]"
   ]
  },
  {
   "cell_type": "code",
   "execution_count": 6,
   "metadata": {},
   "outputs": [],
   "source": [
    "x_train, x_test, y_train, y_test = train_test_split(X, y, test_size=0.3, stratify=y)"
   ]
  },
  {
   "cell_type": "code",
   "execution_count": 7,
   "metadata": {},
   "outputs": [],
   "source": [
    "each_r = np.zeros((attributes_size, 1))\n",
    "n = np.shape(X)[0]\n",
    "k = np.shape(X)[1]\n",
    "constant = ((n - 1) / (n - k - 1))\n",
    "for i in range(np.shape(X)[1]):\n",
    "    rsquared = pearsonr(X[:, i], y)[0] ** 2\n",
    "    each_r[i] = (1 - (1 - rsquared) * constant)"
   ]
  },
  {
   "cell_type": "code",
   "execution_count": 8,
   "metadata": {},
   "outputs": [],
   "source": [
    "plt.figure(figsize=(18, 15))\n",
    "plt.subplots_adjust(hspace=0.40, wspace=0.3)\n",
    "\n",
    "for i in range(attributes_size):\n",
    "    coluna = X[:, i]\n",
    "\n",
    "    current_figure = plt.subplot(3, 4, i+1)\n",
    "    plt.plot(y, coluna, 'b.') \n",
    "    current_figure.set_title(f\"{data.columns[i].title()}\\n R² ajustado = {np.round(each_r[i][0], 3)}\")\n",
    "\n",
    "plt.suptitle(\"Correlação de cada atributo com a qualidade\", size=30)\n",
    "plt.show()"
   ]
  },
  {
   "cell_type": "code",
   "execution_count": 9,
   "metadata": {},
   "outputs": [],
   "source": [
    "attributes = ['fixed acidity', 'volatile acidity', 'citric acid', 'residual sugar', 'chlorides', 'free sulfur dioxide','total sulfur dioxide', 'density', 'pH', 'sulphates','alcohol', 'quality']\n",
    "\n",
    "correlations = data[attributes].corr()\n",
    "\n",
    "mask = np.zeros_like(data[attributes].corr(), dtype=np.bool) \n",
    "mask[np.triu_indices_from(mask)] = True \n",
    "\n",
    "f, ax = plt.subplots(figsize=(12, 9))\n",
    "plt.title(\"Correlação entre atributos\", fontsize=25)\n",
    "\n",
    "sns.heatmap(correlations, linewidths=.25, vmax=.7, square=True, cmap=\"YlGn\", linecolor=\"w\", annot=True, annot_kws={\"size\": 13}, mask=mask, cbar_kws={\"shrink\": .9})\n",
    "\n",
    "plt.tight_layout()"
   ]
  },
  {
   "source": [
    "----\n",
    "### Classificadores: \n",
    "- MultLinReg\n",
    "- SVM (SRV)\n",
    "- MLP\n",
    "- Random Forest"
   ],
   "cell_type": "markdown",
   "metadata": {}
  },
  {
   "source": [
    "---\n",
    "### Multiple Linear Regression"
   ],
   "cell_type": "markdown",
   "metadata": {}
  },
  {
   "cell_type": "code",
   "execution_count": 10,
   "metadata": {},
   "outputs": [],
   "source": [
    "mlr = LinearRegression().fit(x_train, y_train)\n",
    "y_pred = mlr.predict(x_test)\n",
    "\n",
    "mlr_msq = np.sqrt(mean_squared_error(y_test, y_pred))\n",
    "mlr_sse = np.sum((y_test - y_pred)**2)"
   ]
  },
  {
   "cell_type": "code",
   "execution_count": 11,
   "metadata": {},
   "outputs": [
    {
     "output_type": "stream",
     "name": "stdout",
     "text": [
      "          MLR\n=======================\nRoot Mean Squared Error\n-----------------------\n   0.6657758749910998\n=======================\n***********************\n=======================\nSum of Squared Errors\n-----------------------\n   212.763607545679\n=======================\n"
     ]
    }
   ],
   "source": [
    "print(\" \"*10+\"MLR\")\n",
    "print(\"=\"*23)\n",
    "print(\"Root Mean Squared Error\")\n",
    "print(\"-\"*23)\n",
    "print(f\"   {mlr_msq}\")\n",
    "print(\"=\"*23)\n",
    "print(\"*\"*23)\n",
    "print(\"=\"*23)\n",
    "print(\"Sum of Squared Errors\")\n",
    "print(\"-\"*23)\n",
    "print(f\"   {mlr_sse}\")\n",
    "print(\"=\"*23)"
   ]
  },
  {
   "source": [
    "---\n",
    "## SVM (Support Vector Machine) \n",
    "### SVR"
   ],
   "cell_type": "markdown",
   "metadata": {}
  },
  {
   "cell_type": "code",
   "execution_count": 12,
   "metadata": {},
   "outputs": [],
   "source": [
    "svr = SVR(kernel=\"linear\").fit(x_train, y_train)\n",
    "y_pred = svr.predict(x_test)\n",
    "svr_msq = np.sqrt(mean_squared_error(y_test, y_pred))\n",
    "svr_sse = np.sum((y_test - y_pred)**2)"
   ]
  },
  {
   "cell_type": "code",
   "execution_count": 13,
   "metadata": {},
   "outputs": [
    {
     "output_type": "stream",
     "name": "stdout",
     "text": [
      "          SVR\n=======================\nRoot Mean Squared Error\n-----------------------\n   0.6733032506555411\n=======================\n***********************\n=======================\nSum of Squared Errors\n-----------------------\n   217.6018883247928\n=======================\n"
     ]
    }
   ],
   "source": [
    "print(\" \"*10+\"SVR\")\n",
    "print(\"=\"*23)\n",
    "print(\"Root Mean Squared Error\")\n",
    "print(\"-\"*23)\n",
    "print(f\"   {svr_msq}\")\n",
    "print(\"=\"*23)\n",
    "print(\"*\"*23)\n",
    "print(\"=\"*23)\n",
    "print(\"Sum of Squared Errors\")\n",
    "print(\"-\"*23)\n",
    "print(f\"   {svr_sse}\")\n",
    "print(\"=\"*23)"
   ]
  },
  {
   "source": [
    "---\n",
    "## MLP (Multi Layer Perceptron)\n"
   ],
   "cell_type": "markdown",
   "metadata": {}
  },
  {
   "cell_type": "code",
   "execution_count": 14,
   "metadata": {
    "tags": []
   },
   "outputs": [],
   "source": [
    "mlp = MLPRegressor(\n",
    "    hidden_layer_sizes = (256, 168, 64, 32),\n",
    "    solver=\"lbfgs\",\n",
    "    activation=\"tanh\",\n",
    "    max_iter=1500,\n",
    "    alpha=0,\n",
    "    ).fit(x_train, y_train)\n",
    "y_pred = mlp.predict(x_test)\n",
    "\n",
    "mlp_msq = np.sqrt(mean_squared_error(y_test, y_pred))\n",
    "mlp_sse = np.sum((y_test - y_pred)**2)"
   ]
  },
  {
   "cell_type": "code",
   "execution_count": 15,
   "metadata": {},
   "outputs": [
    {
     "output_type": "stream",
     "name": "stdout",
     "text": [
      "          MLP\n=======================\nRoot Mean Squared Error\n-----------------------\n   0.7798266315140114\n=======================\n***********************\n=======================\nSum of Squared Errors\n-----------------------\n   291.9021961048751\n=======================\n"
     ]
    }
   ],
   "source": [
    "print(\" \"*10+\"MLP\")\n",
    "print(\"=\"*23)\n",
    "print(\"Root Mean Squared Error\")\n",
    "print(\"-\"*23)\n",
    "print(f\"   {mlp_msq}\")\n",
    "print(\"=\"*23)\n",
    "print(\"*\"*23)\n",
    "print(\"=\"*23)\n",
    "print(\"Sum of Squared Errors\")\n",
    "print(\"-\"*23)\n",
    "print(f\"   {mlp_sse}\")\n",
    "print(\"=\"*23)"
   ]
  },
  {
   "source": [
    "---\n",
    "## Random Forest Regressor"
   ],
   "cell_type": "markdown",
   "metadata": {}
  },
  {
   "cell_type": "code",
   "execution_count": 16,
   "metadata": {},
   "outputs": [],
   "source": [
    "rfr = RandomForestRegressor(n_estimators=300, n_jobs=-1).fit(x_train, y_train)\n",
    "y_pred = rfr.predict(x_test)\n",
    "\n",
    "rfr_msq = np.sqrt(mean_squared_error(y_test, y_pred))\n",
    "rfr_sse = np.sum((y_test - y_pred)**2)"
   ]
  },
  {
   "cell_type": "code",
   "execution_count": 17,
   "metadata": {},
   "outputs": [
    {
     "output_type": "stream",
     "name": "stdout",
     "text": [
      "          RFR\n=======================\nRoot Mean Squared Error\n-----------------------\n   0.5917366938215128\n=======================\n***********************\n=======================\nSum of Squared Errors\n-----------------------\n   168.0731111111111\n=======================\n"
     ]
    }
   ],
   "source": [
    "print(\" \"*10+\"RFR\")\n",
    "print(\"=\"*23)\n",
    "print(\"Root Mean Squared Error\")\n",
    "print(\"-\"*23)\n",
    "print(f\"   {rfr_msq}\")\n",
    "print(\"=\"*23)\n",
    "print(\"*\"*23)\n",
    "print(\"=\"*23)\n",
    "print(\"Sum of Squared Errors\")\n",
    "print(\"-\"*23)\n",
    "print(f\"   {rfr_sse}\")\n",
    "print(\"=\"*23)"
   ]
  },
  {
   "source": [
    "---"
   ],
   "cell_type": "markdown",
   "metadata": {}
  },
  {
   "cell_type": "code",
   "execution_count": 18,
   "metadata": {},
   "outputs": [
    {
     "output_type": "execute_result",
     "data": {
      "text/plain": [
       "<pandas.io.formats.style.Styler at 0x7efcd4ab3100>"
      ],
      "text/html": "<style  type=\"text/css\" >\n#T_207ca6a6_417e_11eb_bee0_2089844c54f6row0_col3,#T_207ca6a6_417e_11eb_bee0_2089844c54f6row1_col3{\n            background-color:  forestgreen;\n        }</style><table id=\"T_207ca6a6_417e_11eb_bee0_2089844c54f6\" ><thead>    <tr>        <th class=\"blank level0\" ></th>        <th class=\"col_heading level0 col0\" >MLR</th>        <th class=\"col_heading level0 col1\" >SVR</th>        <th class=\"col_heading level0 col2\" >MLP</th>        <th class=\"col_heading level0 col3\" >RFR</th>    </tr></thead><tbody>\n                <tr>\n                        <th id=\"T_207ca6a6_417e_11eb_bee0_2089844c54f6level0_row0\" class=\"row_heading level0 row0\" >MSQ</th>\n                        <td id=\"T_207ca6a6_417e_11eb_bee0_2089844c54f6row0_col0\" class=\"data row0 col0\" >0.666</td>\n                        <td id=\"T_207ca6a6_417e_11eb_bee0_2089844c54f6row0_col1\" class=\"data row0 col1\" >0.673</td>\n                        <td id=\"T_207ca6a6_417e_11eb_bee0_2089844c54f6row0_col2\" class=\"data row0 col2\" >0.780</td>\n                        <td id=\"T_207ca6a6_417e_11eb_bee0_2089844c54f6row0_col3\" class=\"data row0 col3\" >0.592</td>\n            </tr>\n            <tr>\n                        <th id=\"T_207ca6a6_417e_11eb_bee0_2089844c54f6level0_row1\" class=\"row_heading level0 row1\" >SSE</th>\n                        <td id=\"T_207ca6a6_417e_11eb_bee0_2089844c54f6row1_col0\" class=\"data row1 col0\" >212.764</td>\n                        <td id=\"T_207ca6a6_417e_11eb_bee0_2089844c54f6row1_col1\" class=\"data row1 col1\" >217.602</td>\n                        <td id=\"T_207ca6a6_417e_11eb_bee0_2089844c54f6row1_col2\" class=\"data row1 col2\" >291.902</td>\n                        <td id=\"T_207ca6a6_417e_11eb_bee0_2089844c54f6row1_col3\" class=\"data row1 col3\" >168.073</td>\n            </tr>\n    </tbody></table>"
     },
     "metadata": {},
     "execution_count": 18
    }
   ],
   "source": [
    "table = [\n",
    "    [mlr_msq, svr_msq, mlp_msq, rfr_msq],\n",
    "    [mlr_sse, svr_sse, mlp_sse, rfr_sse]\n",
    "]\n",
    "result = pd.DataFrame(table,\n",
    "    index=[\"MSQ\", \"SSE\"],\n",
    "    columns=[\"MLR\", \"SVR\", \"MLP\", \"RFR\"]\n",
    "    )\n",
    "result.style.highlight_min(color = \"forestgreen\", axis=1)"
   ]
  }
 ]
}